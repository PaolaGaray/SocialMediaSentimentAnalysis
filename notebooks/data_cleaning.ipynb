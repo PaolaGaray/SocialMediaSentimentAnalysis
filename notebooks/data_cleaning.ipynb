{
 "cells": [
  {
   "cell_type": "code",
   "execution_count": 48,
   "id": "af3f6143-aa31-48e8-82ad-d9d5eef70260",
   "metadata": {},
   "outputs": [],
   "source": [
    "import pandas as pd\n",
    "import matplotlib.pyplot as plt\n",
    "import seaborn as sns\n",
    "import numpy as np\n",
    "from datetime import datetime\n",
    "from scipy.stats import ttest_ind\n",
    "\n",
    "%matplotlib inline"
   ]
  },
  {
   "cell_type": "code",
   "execution_count": 49,
   "id": "6d6f9599-ccc2-4b3b-9e78-287c2a39ba15",
   "metadata": {},
   "outputs": [],
   "source": [
    "df_1 = pd.read_csv('../data/raw/train_df.csv', sep=',')\n",
    "df_2 = pd.read_csv('../data/raw/test_df.csv', sep=',')\n",
    "df_3 = pd.read_csv('../data/raw/val_df.csv', sep=',')"
   ]
  },
  {
   "cell_type": "code",
   "execution_count": 50,
   "id": "2a281710-ba1a-4f09-9d04-7e91f2d7e9b8",
   "metadata": {},
   "outputs": [
    {
     "data": {
      "text/html": [
       "<div>\n",
       "<style scoped>\n",
       "    .dataframe tbody tr th:only-of-type {\n",
       "        vertical-align: middle;\n",
       "    }\n",
       "\n",
       "    .dataframe tbody tr th {\n",
       "        vertical-align: top;\n",
       "    }\n",
       "\n",
       "    .dataframe thead th {\n",
       "        text-align: right;\n",
       "    }\n",
       "</style>\n",
       "<table border=\"1\" class=\"dataframe\">\n",
       "  <thead>\n",
       "    <tr style=\"text-align: right;\">\n",
       "      <th></th>\n",
       "      <th>id</th>\n",
       "      <th>text</th>\n",
       "      <th>label</th>\n",
       "      <th>sentiment</th>\n",
       "    </tr>\n",
       "  </thead>\n",
       "  <tbody>\n",
       "    <tr>\n",
       "      <th>0</th>\n",
       "      <td>9536</td>\n",
       "      <td>Cooking microwave pizzas, yummy</td>\n",
       "      <td>2</td>\n",
       "      <td>positive</td>\n",
       "    </tr>\n",
       "    <tr>\n",
       "      <th>1</th>\n",
       "      <td>6135</td>\n",
       "      <td>Any plans of allowing sub tasks to show up in ...</td>\n",
       "      <td>1</td>\n",
       "      <td>neutral</td>\n",
       "    </tr>\n",
       "    <tr>\n",
       "      <th>2</th>\n",
       "      <td>17697</td>\n",
       "      <td>I love the humor, I just reworded it. Like sa...</td>\n",
       "      <td>2</td>\n",
       "      <td>positive</td>\n",
       "    </tr>\n",
       "    <tr>\n",
       "      <th>3</th>\n",
       "      <td>14182</td>\n",
       "      <td>naw idk what ur talkin about</td>\n",
       "      <td>1</td>\n",
       "      <td>neutral</td>\n",
       "    </tr>\n",
       "    <tr>\n",
       "      <th>4</th>\n",
       "      <td>17840</td>\n",
       "      <td>That sucks to hear. I hate days like that</td>\n",
       "      <td>0</td>\n",
       "      <td>negative</td>\n",
       "    </tr>\n",
       "    <tr>\n",
       "      <th>...</th>\n",
       "      <td>...</td>\n",
       "      <td>...</td>\n",
       "      <td>...</td>\n",
       "      <td>...</td>\n",
       "    </tr>\n",
       "    <tr>\n",
       "      <th>41638</th>\n",
       "      <td>9043</td>\n",
       "      <td>Not sure what happened but now I have to hit t...</td>\n",
       "      <td>1</td>\n",
       "      <td>neutral</td>\n",
       "    </tr>\n",
       "    <tr>\n",
       "      <th>41639</th>\n",
       "      <td>6160</td>\n",
       "      <td>Pretty good app, lets you organize tasks by ca...</td>\n",
       "      <td>2</td>\n",
       "      <td>positive</td>\n",
       "    </tr>\n",
       "    <tr>\n",
       "      <th>41640</th>\n",
       "      <td>5655</td>\n",
       "      <td>This app is a piece of sh**. It won't sync my ...</td>\n",
       "      <td>0</td>\n",
       "      <td>negative</td>\n",
       "    </tr>\n",
       "    <tr>\n",
       "      <th>41641</th>\n",
       "      <td>11834</td>\n",
       "      <td>: Very interested. However, low carbs for the ...</td>\n",
       "      <td>2</td>\n",
       "      <td>positive</td>\n",
       "    </tr>\n",
       "    <tr>\n",
       "      <th>41642</th>\n",
       "      <td>6904</td>\n",
       "      <td>Good app, but not exactly what I was looking f...</td>\n",
       "      <td>2</td>\n",
       "      <td>positive</td>\n",
       "    </tr>\n",
       "  </tbody>\n",
       "</table>\n",
       "<p>41643 rows × 4 columns</p>\n",
       "</div>"
      ],
      "text/plain": [
       "          id                                               text  label  \\\n",
       "0       9536                    Cooking microwave pizzas, yummy      2   \n",
       "1       6135  Any plans of allowing sub tasks to show up in ...      1   \n",
       "2      17697   I love the humor, I just reworded it. Like sa...      2   \n",
       "3      14182                       naw idk what ur talkin about      1   \n",
       "4      17840          That sucks to hear. I hate days like that      0   \n",
       "...      ...                                                ...    ...   \n",
       "41638   9043  Not sure what happened but now I have to hit t...      1   \n",
       "41639   6160  Pretty good app, lets you organize tasks by ca...      2   \n",
       "41640   5655  This app is a piece of sh**. It won't sync my ...      0   \n",
       "41641  11834  : Very interested. However, low carbs for the ...      2   \n",
       "41642   6904  Good app, but not exactly what I was looking f...      2   \n",
       "\n",
       "      sentiment  \n",
       "0      positive  \n",
       "1       neutral  \n",
       "2      positive  \n",
       "3       neutral  \n",
       "4      negative  \n",
       "...         ...  \n",
       "41638   neutral  \n",
       "41639  positive  \n",
       "41640  negative  \n",
       "41641  positive  \n",
       "41642  positive  \n",
       "\n",
       "[41643 rows x 4 columns]"
      ]
     },
     "execution_count": 50,
     "metadata": {},
     "output_type": "execute_result"
    }
   ],
   "source": [
    "df = pd.concat([df_1, df_2, df_3], ignore_index=True)\n",
    "df"
   ]
  },
  {
   "cell_type": "markdown",
   "id": "757b7421-aae1-4d50-bb59-b466b61f157c",
   "metadata": {},
   "source": [
    "# Data Cleaning"
   ]
  },
  {
   "cell_type": "code",
   "execution_count": 51,
   "id": "34b1904f-58e1-4bde-87a6-849ed13c5bbd",
   "metadata": {},
   "outputs": [
    {
     "data": {
      "text/plain": [
       "id           0\n",
       "text         1\n",
       "label        0\n",
       "sentiment    0\n",
       "dtype: int64"
      ]
     },
     "execution_count": 51,
     "metadata": {},
     "output_type": "execute_result"
    }
   ],
   "source": [
    "# Checking missing values\n",
    "df.isnull().sum()"
   ]
  },
  {
   "cell_type": "code",
   "execution_count": 52,
   "id": "28b726b3-7261-4949-bc59-5e133051dc11",
   "metadata": {},
   "outputs": [],
   "source": [
    "# Remove rows where the 'text' column has missing values\n",
    "df = df.dropna(subset=['text'])"
   ]
  },
  {
   "cell_type": "code",
   "execution_count": 53,
   "id": "2d2f26e3-9623-4572-a0ba-f344e4c24b2e",
   "metadata": {},
   "outputs": [
    {
     "data": {
      "text/plain": [
       "id           0\n",
       "text         0\n",
       "label        0\n",
       "sentiment    0\n",
       "dtype: int64"
      ]
     },
     "execution_count": 53,
     "metadata": {},
     "output_type": "execute_result"
    }
   ],
   "source": [
    "# Checking missing values\n",
    "df.isnull().sum()"
   ]
  },
  {
   "cell_type": "code",
   "execution_count": 54,
   "id": "d520f9a0-89c6-4b88-8362-53e3249b833f",
   "metadata": {},
   "outputs": [
    {
     "data": {
      "text/plain": [
       "0"
      ]
     },
     "execution_count": 54,
     "metadata": {},
     "output_type": "execute_result"
    }
   ],
   "source": [
    "# Checking the duplicates\n",
    "df.duplicated().sum()"
   ]
  },
  {
   "cell_type": "code",
   "execution_count": 55,
   "id": "c1c0c43e-4364-44b6-b65c-56f92ee21112",
   "metadata": {},
   "outputs": [
    {
     "data": {
      "text/plain": [
       "id           27481\n",
       "text         41642\n",
       "label            3\n",
       "sentiment        3\n",
       "dtype: int64"
      ]
     },
     "execution_count": 55,
     "metadata": {},
     "output_type": "execute_result"
    }
   ],
   "source": [
    "# checking the unique values\n",
    "df.nunique()"
   ]
  },
  {
   "cell_type": "code",
   "execution_count": 56,
   "id": "58f41714-32f6-4371-a29d-fa13783ced60",
   "metadata": {},
   "outputs": [
    {
     "name": "stdout",
     "output_type": "stream",
     "text": [
      "Unique values in column 'id':\n",
      "[ 9536  6135 17697 ... 15694 20345 11834]\n",
      "\n",
      "\n",
      "Unique values in column 'text':\n",
      "['Cooking microwave pizzas, yummy'\n",
      " 'Any plans of allowing sub tasks to show up in the widget?'\n",
      " \" I love the humor, I just reworded it. Like saying 'group therapy' instead`a 'gang banging'. Keeps my moms off my back.   Hahaha\"\n",
      " ...\n",
      " \"This app is a piece of sh**. It won't sync my old wunderlists. Shared lists don't work. I'll be uninstalling and going with a different app. Thanks Microsoft for taking a fantastic app (Wunderlist) and ruining it.\"\n",
      " ': Very interested. However, low carbs for the next month means no beer for me'\n",
      " 'Good app, but not exactly what I was looking for. This app uses your calendar events and organizes them in the circle. The controls are great, I love when I move the red time bar it scrolls through all the things and shows the time changing. Love the widget. I wanted this to work out a homeschool schedule. I ended up having to make a new calendar and syncing only that one. I was able to change the colors of each event in the app. Very easy to use overall.']\n",
      "\n",
      "\n",
      "Unique values in column 'label':\n",
      "[2 1 0]\n",
      "\n",
      "\n",
      "Unique values in column 'sentiment':\n",
      "['positive' 'neutral' 'negative']\n",
      "\n",
      "\n"
     ]
    }
   ],
   "source": [
    "for column in df.columns:\n",
    "    print(f\"Unique values in column '{column}':\")\n",
    "    print(df[column].unique())\n",
    "    print(\"\\n\") "
   ]
  },
  {
   "cell_type": "code",
   "execution_count": 57,
   "id": "b34d5866-2ca3-4b4e-bb78-22874bc4d11c",
   "metadata": {},
   "outputs": [],
   "source": [
    "# Rename the column 'label' to 'target'\n",
    "df = df.rename(columns={'label': 'target'})"
   ]
  },
  {
   "cell_type": "code",
   "execution_count": 58,
   "id": "5c01a9d5-bc9b-441e-aa23-e310d671b5e5",
   "metadata": {},
   "outputs": [
    {
     "data": {
      "text/plain": [
       "target\n",
       "1    15506\n",
       "2    13968\n",
       "0    12168\n",
       "Name: count, dtype: int64"
      ]
     },
     "execution_count": 58,
     "metadata": {},
     "output_type": "execute_result"
    }
   ],
   "source": [
    "# Distribution of the target\n",
    "df['target'].value_counts()"
   ]
  },
  {
   "cell_type": "code",
   "execution_count": 59,
   "id": "73c15f0f-13f1-4829-81c6-18fbc1818c82",
   "metadata": {},
   "outputs": [
    {
     "data": {
      "image/png": "[encoded data removed]",
      "text/plain": [
       "<Figure size 800x600 with 1 Axes>"
      ]
     },
     "metadata": {},
     "output_type": "display_data"
    }
   ],
   "source": [
    "# Create a bar plot for target distribution\n",
    "plt.figure(figsize=(8, 6))\n",
    "sns.barplot(x=label_counts.index, y=label_counts.values, hue=label_counts.index, palette='coolwarm', dodge=False, legend=False)\n",
    "\n",
    "plt.title('Distribution of Target')\n",
    "plt.xlabel('Sentiment')\n",
    "plt.ylabel('Count')\n",
    "plt.show()"
   ]
  },
  {
   "cell_type": "code",
   "execution_count": 60,
   "id": "a3adaa0f-cead-4994-898a-acb3963b5d83",
   "metadata": {},
   "outputs": [],
   "source": [
    "df.to_csv('../data/clean/df_0.csv', index=False)"
   ]
  },
  {
   "cell_type": "code",
   "execution_count": null,
   "id": "13cd8c60-4c8b-4bc5-9cff-2a8b0fc335a8",
   "metadata": {},
   "outputs": [],
   "source": []
  }
 ],
 "metadata": {
  "kernelspec": {
   "display_name": "Sentiment Analysis Env",
   "language": "python",
   "name": "sentiment_env"
  },
  "language_info": {
   "codemirror_mode": {
    "name": "ipython",
    "version": 3
   },
   "file_extension": ".py",
   "mimetype": "text/x-python",
   "name": "python",
   "nbconvert_exporter": "python",
   "pygments_lexer": "ipython3",
   "version": "3.11.9"
  }
 },
 "nbformat": 4,
 "nbformat_minor": 5
}
