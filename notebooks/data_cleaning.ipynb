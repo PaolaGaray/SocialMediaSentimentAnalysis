{
 "cells": [
  {
   "cell_type": "code",
   "execution_count": 83,
   "id": "af3f6143-aa31-48e8-82ad-d9d5eef70260",
   "metadata": {},
   "outputs": [],
   "source": [
    "import pandas as pd\n",
    "import matplotlib.pyplot as plt\n",
    "import seaborn as sns\n",
    "import numpy as np\n",
    "from datetime import datetime\n",
    "from scipy.stats import ttest_ind\n",
    "\n",
    "%matplotlib inline"
   ]
  },
  {
   "cell_type": "code",
   "execution_count": 84,
   "id": "6d6f9599-ccc2-4b3b-9e78-287c2a39ba15",
   "metadata": {},
   "outputs": [],
   "source": [
    "df_1 = pd.read_csv('../data/raw/train_df.csv', sep=',')\n",
    "df_2 = pd.read_csv('../data/raw/test_df.csv', sep=',')\n",
    "df_3 = pd.read_csv('../data/raw/val_df.csv', sep=',')"
   ]
  },
  {
   "cell_type": "code",
   "execution_count": 85,
   "id": "2a281710-ba1a-4f09-9d04-7e91f2d7e9b8",
   "metadata": {},
   "outputs": [
    {
     "data": {
      "text/html": [
       "<div>\n",
       "<style scoped>\n",
       "    .dataframe tbody tr th:only-of-type {\n",
       "        vertical-align: middle;\n",
       "    }\n",
       "\n",
       "    .dataframe tbody tr th {\n",
       "        vertical-align: top;\n",
       "    }\n",
       "\n",
       "    .dataframe thead th {\n",
       "        text-align: right;\n",
       "    }\n",
       "</style>\n",
       "<table border=\"1\" class=\"dataframe\">\n",
       "  <thead>\n",
       "    <tr style=\"text-align: right;\">\n",
       "      <th></th>\n",
       "      <th>id</th>\n",
       "      <th>text</th>\n",
       "      <th>label</th>\n",
       "      <th>sentiment</th>\n",
       "    </tr>\n",
       "  </thead>\n",
       "  <tbody>\n",
       "    <tr>\n",
       "      <th>0</th>\n",
       "      <td>9536</td>\n",
       "      <td>Cooking microwave pizzas, yummy</td>\n",
       "      <td>2</td>\n",
       "      <td>positive</td>\n",
       "    </tr>\n",
       "    <tr>\n",
       "      <th>1</th>\n",
       "      <td>6135</td>\n",
       "      <td>Any plans of allowing sub tasks to show up in ...</td>\n",
       "      <td>1</td>\n",
       "      <td>neutral</td>\n",
       "    </tr>\n",
       "    <tr>\n",
       "      <th>2</th>\n",
       "      <td>17697</td>\n",
       "      <td>I love the humor, I just reworded it. Like sa...</td>\n",
       "      <td>2</td>\n",
       "      <td>positive</td>\n",
       "    </tr>\n",
       "    <tr>\n",
       "      <th>3</th>\n",
       "      <td>14182</td>\n",
       "      <td>naw idk what ur talkin about</td>\n",
       "      <td>1</td>\n",
       "      <td>neutral</td>\n",
       "    </tr>\n",
       "    <tr>\n",
       "      <th>4</th>\n",
       "      <td>17840</td>\n",
       "      <td>That sucks to hear. I hate days like that</td>\n",
       "      <td>0</td>\n",
       "      <td>negative</td>\n",
       "    </tr>\n",
       "    <tr>\n",
       "      <th>...</th>\n",
       "      <td>...</td>\n",
       "      <td>...</td>\n",
       "      <td>...</td>\n",
       "      <td>...</td>\n",
       "    </tr>\n",
       "    <tr>\n",
       "      <th>41638</th>\n",
       "      <td>9043</td>\n",
       "      <td>Not sure what happened but now I have to hit t...</td>\n",
       "      <td>1</td>\n",
       "      <td>neutral</td>\n",
       "    </tr>\n",
       "    <tr>\n",
       "      <th>41639</th>\n",
       "      <td>6160</td>\n",
       "      <td>Pretty good app, lets you organize tasks by ca...</td>\n",
       "      <td>2</td>\n",
       "      <td>positive</td>\n",
       "    </tr>\n",
       "    <tr>\n",
       "      <th>41640</th>\n",
       "      <td>5655</td>\n",
       "      <td>This app is a piece of sh**. It won't sync my ...</td>\n",
       "      <td>0</td>\n",
       "      <td>negative</td>\n",
       "    </tr>\n",
       "    <tr>\n",
       "      <th>41641</th>\n",
       "      <td>11834</td>\n",
       "      <td>: Very interested. However, low carbs for the ...</td>\n",
       "      <td>2</td>\n",
       "      <td>positive</td>\n",
       "    </tr>\n",
       "    <tr>\n",
       "      <th>41642</th>\n",
       "      <td>6904</td>\n",
       "      <td>Good app, but not exactly what I was looking f...</td>\n",
       "      <td>2</td>\n",
       "      <td>positive</td>\n",
       "    </tr>\n",
       "  </tbody>\n",
       "</table>\n",
       "<p>41643 rows × 4 columns</p>\n",
       "</div>"
      ],
      "text/plain": [
       "          id                                               text  label  \\\n",
       "0       9536                    Cooking microwave pizzas, yummy      2   \n",
       "1       6135  Any plans of allowing sub tasks to show up in ...      1   \n",
       "2      17697   I love the humor, I just reworded it. Like sa...      2   \n",
       "3      14182                       naw idk what ur talkin about      1   \n",
       "4      17840          That sucks to hear. I hate days like that      0   \n",
       "...      ...                                                ...    ...   \n",
       "41638   9043  Not sure what happened but now I have to hit t...      1   \n",
       "41639   6160  Pretty good app, lets you organize tasks by ca...      2   \n",
       "41640   5655  This app is a piece of sh**. It won't sync my ...      0   \n",
       "41641  11834  : Very interested. However, low carbs for the ...      2   \n",
       "41642   6904  Good app, but not exactly what I was looking f...      2   \n",
       "\n",
       "      sentiment  \n",
       "0      positive  \n",
       "1       neutral  \n",
       "2      positive  \n",
       "3       neutral  \n",
       "4      negative  \n",
       "...         ...  \n",
       "41638   neutral  \n",
       "41639  positive  \n",
       "41640  negative  \n",
       "41641  positive  \n",
       "41642  positive  \n",
       "\n",
       "[41643 rows x 4 columns]"
      ]
     },
     "execution_count": 85,
     "metadata": {},
     "output_type": "execute_result"
    }
   ],
   "source": [
    "df = pd.concat([df_1, df_2, df_3], ignore_index=True)\n",
    "df"
   ]
  },
  {
   "cell_type": "markdown",
   "id": "757b7421-aae1-4d50-bb59-b466b61f157c",
   "metadata": {},
   "source": [
    "# Data Cleaning"
   ]
  },
  {
   "cell_type": "code",
   "execution_count": 71,
   "id": "34b1904f-58e1-4bde-87a6-849ed13c5bbd",
   "metadata": {},
   "outputs": [
    {
     "data": {
      "text/plain": [
       "id           0\n",
       "text         1\n",
       "label        0\n",
       "sentiment    0\n",
       "dtype: int64"
      ]
     },
     "execution_count": 71,
     "metadata": {},
     "output_type": "execute_result"
    }
   ],
   "source": [
    "# Checking missing values\n",
    "df.isnull().sum()"
   ]
  },
  {
   "cell_type": "code",
   "execution_count": 72,
   "id": "28b726b3-7261-4949-bc59-5e133051dc11",
   "metadata": {},
   "outputs": [],
   "source": [
    "# Remove rows where the 'text' column has missing values\n",
    "df = df.dropna(subset=['text'])"
   ]
  },
  {
   "cell_type": "code",
   "execution_count": 73,
   "id": "2d2f26e3-9623-4572-a0ba-f344e4c24b2e",
   "metadata": {},
   "outputs": [
    {
     "data": {
      "text/plain": [
       "id           0\n",
       "text         0\n",
       "label        0\n",
       "sentiment    0\n",
       "dtype: int64"
      ]
     },
     "execution_count": 73,
     "metadata": {},
     "output_type": "execute_result"
    }
   ],
   "source": [
    "# Checking missing values\n",
    "df.isnull().sum()"
   ]
  },
  {
   "cell_type": "code",
   "execution_count": 64,
   "id": "d520f9a0-89c6-4b88-8362-53e3249b833f",
   "metadata": {},
   "outputs": [
    {
     "data": {
      "text/plain": [
       "0"
      ]
     },
     "execution_count": 64,
     "metadata": {},
     "output_type": "execute_result"
    }
   ],
   "source": [
    "# Checking the duplicates\n",
    "df.duplicated().sum()"
   ]
  },
  {
   "cell_type": "code",
   "execution_count": 74,
   "id": "c1c0c43e-4364-44b6-b65c-56f92ee21112",
   "metadata": {},
   "outputs": [
    {
     "data": {
      "text/plain": [
       "id           27481\n",
       "text         41642\n",
       "label            3\n",
       "sentiment        3\n",
       "dtype: int64"
      ]
     },
     "execution_count": 74,
     "metadata": {},
     "output_type": "execute_result"
    }
   ],
   "source": [
    "# checking the unique values\n",
    "df.nunique()"
   ]
  },
  {
   "cell_type": "code",
   "execution_count": 75,
   "id": "58f41714-32f6-4371-a29d-fa13783ced60",
   "metadata": {},
   "outputs": [
    {
     "name": "stdout",
     "output_type": "stream",
     "text": [
      "Unique values in column 'id':\n",
      "[ 9536  6135 17697 ... 15694 20345 11834]\n",
      "\n",
      "\n",
      "Unique values in column 'text':\n",
      "['Cooking microwave pizzas, yummy'\n",
      " 'Any plans of allowing sub tasks to show up in the widget?'\n",
      " \" I love the humor, I just reworded it. Like saying 'group therapy' instead`a 'gang banging'. Keeps my moms off my back.   Hahaha\"\n",
      " ...\n",
      " \"This app is a piece of sh**. It won't sync my old wunderlists. Shared lists don't work. I'll be uninstalling and going with a different app. Thanks Microsoft for taking a fantastic app (Wunderlist) and ruining it.\"\n",
      " ': Very interested. However, low carbs for the next month means no beer for me'\n",
      " 'Good app, but not exactly what I was looking for. This app uses your calendar events and organizes them in the circle. The controls are great, I love when I move the red time bar it scrolls through all the things and shows the time changing. Love the widget. I wanted this to work out a homeschool schedule. I ended up having to make a new calendar and syncing only that one. I was able to change the colors of each event in the app. Very easy to use overall.']\n",
      "\n",
      "\n",
      "Unique values in column 'label':\n",
      "[2 1 0]\n",
      "\n",
      "\n",
      "Unique values in column 'sentiment':\n",
      "['positive' 'neutral' 'negative']\n",
      "\n",
      "\n"
     ]
    }
   ],
   "source": [
    "for column in df.columns:\n",
    "    print(f\"Unique values in column '{column}':\")\n",
    "    print(df[column].unique())\n",
    "    print(\"\\n\") "
   ]
  },
  {
   "cell_type": "code",
   "execution_count": 86,
   "id": "4326ed9c-b210-4eea-b2fa-a26e06fcc95b",
   "metadata": {},
   "outputs": [],
   "source": [
    "df = df.rename(columns = {'label': 'target'})"
   ]
  },
  {
   "cell_type": "code",
   "execution_count": 87,
   "id": "5c01a9d5-bc9b-441e-aa23-e310d671b5e5",
   "metadata": {},
   "outputs": [],
   "source": [
    "# Distribution of the target\n",
    "label_counts = df['target'].value_counts()"
   ]
  },
  {
   "cell_type": "code",
   "execution_count": 88,
   "id": "49b6ce0f-00b7-43ca-b81a-34ed7b6572f9",
   "metadata": {},
   "outputs": [
    {
     "data": {
      "text/plain": [
       "target\n",
       "1    15507\n",
       "2    13968\n",
       "0    12168\n",
       "Name: count, dtype: int64"
      ]
     },
     "execution_count": 88,
     "metadata": {},
     "output_type": "execute_result"
    }
   ],
   "source": [
    "label_counts"
   ]
  },
  {
   "cell_type": "code",
   "execution_count": 89,
   "id": "73c15f0f-13f1-4829-81c6-18fbc1818c82",
   "metadata": {},
   "outputs": [
    {
     "data": {
      "image/png": "[encoded data removed]",
      "text/plain": [
       "<Figure size 800x600 with 1 Axes>"
      ]
     },
     "metadata": {},
     "output_type": "display_data"
    }
   ],
   "source": [
    "# Create a bar plot for target distribution\n",
    "plt.figure(figsize=(8, 6))\n",
    "sns.barplot(x=label_counts.index, y=label_counts.values, hue=label_counts.index, palette='coolwarm', dodge=False, legend=False)\n",
    "\n",
    "plt.title('Distribution of Labels')\n",
    "plt.xlabel('Sentiment')\n",
    "plt.ylabel('Count')\n",
    "plt.show()"
   ]
  },
  {
   "cell_type": "code",
   "execution_count": 95,
   "id": "2570cfa7-d1f1-409d-80b8-3c2cfa86eb17",
   "metadata": {},
   "outputs": [
    {
     "name": "stdout",
     "output_type": "stream",
     "text": [
      "target\n",
      "0    12168\n",
      "1    12168\n",
      "2    12168\n",
      "Name: count, dtype: int64\n"
     ]
    }
   ],
   "source": [
    "# Balance the dataset using Undersampling Majority Class: \n",
    "# This involves reducing the number of samples in the majority class ('1') \n",
    "# to match the number of samples in the minority classes ('0' and '2').\n",
    "\n",
    "from imblearn.under_sampling import RandomUnderSampler\n",
    "\n",
    "# Find the minimum number of samples in any class\n",
    "min_class_samples = min(df['target'].value_counts())\n",
    "\n",
    "# Define custom sampling strategy to make all classes have the same number of samples\n",
    "undersample = RandomUnderSampler(sampling_strategy={0: min_class_samples, 1: min_class_samples, 2: min_class_samples})\n",
    "\n",
    "# Apply undersampling\n",
    "X_under, y_under = undersample.fit_resample(X, y)\n",
    "\n",
    "# Create new balanced DataFrame\n",
    "df_balanced = pd.DataFrame(X_under, columns=['id', 'text', 'sentiment'])\n",
    "df_balanced['target'] = y_under\n",
    "\n",
    "# Verify new class distribution\n",
    "print(df_balanced['target'].value_counts())\n"
   ]
  },
  {
   "cell_type": "code",
   "execution_count": 96,
   "id": "530bbcfe-a58a-4654-8f4d-2a72b41306c0",
   "metadata": {},
   "outputs": [
    {
     "data": {
      "text/html": [
       "<div>\n",
       "<style scoped>\n",
       "    .dataframe tbody tr th:only-of-type {\n",
       "        vertical-align: middle;\n",
       "    }\n",
       "\n",
       "    .dataframe tbody tr th {\n",
       "        vertical-align: top;\n",
       "    }\n",
       "\n",
       "    .dataframe thead th {\n",
       "        text-align: right;\n",
       "    }\n",
       "</style>\n",
       "<table border=\"1\" class=\"dataframe\">\n",
       "  <thead>\n",
       "    <tr style=\"text-align: right;\">\n",
       "      <th></th>\n",
       "      <th>id</th>\n",
       "      <th>text</th>\n",
       "      <th>sentiment</th>\n",
       "      <th>target</th>\n",
       "    </tr>\n",
       "  </thead>\n",
       "  <tbody>\n",
       "    <tr>\n",
       "      <th>38002</th>\n",
       "      <td>26753</td>\n",
       "      <td>is cursing AB`s wardrobe handles. One drew blood</td>\n",
       "      <td>negative</td>\n",
       "      <td>0</td>\n",
       "    </tr>\n",
       "    <tr>\n",
       "      <th>4513</th>\n",
       "      <td>3404</td>\n",
       "      <td>I'm a pro user, worked great initially but it ...</td>\n",
       "      <td>negative</td>\n",
       "      <td>0</td>\n",
       "    </tr>\n",
       "    <tr>\n",
       "      <th>9688</th>\n",
       "      <td>16949</td>\n",
       "      <td>noo  I`m in miami and I just wanna lay out in...</td>\n",
       "      <td>negative</td>\n",
       "      <td>0</td>\n",
       "    </tr>\n",
       "    <tr>\n",
       "      <th>27715</th>\n",
       "      <td>2667</td>\n",
       "      <td>Please help. Relogging in after several months...</td>\n",
       "      <td>negative</td>\n",
       "      <td>0</td>\n",
       "    </tr>\n",
       "    <tr>\n",
       "      <th>10784</th>\n",
       "      <td>21965</td>\n",
       "      <td>haha calm down. Youll get ur shades. I`m stil...</td>\n",
       "      <td>negative</td>\n",
       "      <td>0</td>\n",
       "    </tr>\n",
       "    <tr>\n",
       "      <th>...</th>\n",
       "      <td>...</td>\n",
       "      <td>...</td>\n",
       "      <td>...</td>\n",
       "      <td>...</td>\n",
       "    </tr>\n",
       "    <tr>\n",
       "      <th>26995</th>\n",
       "      <td>3977</td>\n",
       "      <td>It is a great app. The only problem i have is ...</td>\n",
       "      <td>positive</td>\n",
       "      <td>2</td>\n",
       "    </tr>\n",
       "    <tr>\n",
       "      <th>15920</th>\n",
       "      <td>987</td>\n",
       "      <td>if so, the TMobile G1 is the Hummer H1. I wis...</td>\n",
       "      <td>positive</td>\n",
       "      <td>2</td>\n",
       "    </tr>\n",
       "    <tr>\n",
       "      <th>3823</th>\n",
       "      <td>27451</td>\n",
       "      <td>happy all my studying and all nighters payed off</td>\n",
       "      <td>positive</td>\n",
       "      <td>2</td>\n",
       "    </tr>\n",
       "    <tr>\n",
       "      <th>36488</th>\n",
       "      <td>8022</td>\n",
       "      <td>Finally something that lets me feel like I'm u...</td>\n",
       "      <td>positive</td>\n",
       "      <td>2</td>\n",
       "    </tr>\n",
       "    <tr>\n",
       "      <th>27676</th>\n",
       "      <td>19459</td>\n",
       "      <td>Thank you  I`d share my sundae with you but i...</td>\n",
       "      <td>positive</td>\n",
       "      <td>2</td>\n",
       "    </tr>\n",
       "  </tbody>\n",
       "</table>\n",
       "<p>36504 rows × 4 columns</p>\n",
       "</div>"
      ],
      "text/plain": [
       "          id                                               text sentiment  \\\n",
       "38002  26753   is cursing AB`s wardrobe handles. One drew blood  negative   \n",
       "4513    3404  I'm a pro user, worked great initially but it ...  negative   \n",
       "9688   16949   noo  I`m in miami and I just wanna lay out in...  negative   \n",
       "27715   2667  Please help. Relogging in after several months...  negative   \n",
       "10784  21965   haha calm down. Youll get ur shades. I`m stil...  negative   \n",
       "...      ...                                                ...       ...   \n",
       "26995   3977  It is a great app. The only problem i have is ...  positive   \n",
       "15920    987   if so, the TMobile G1 is the Hummer H1. I wis...  positive   \n",
       "3823   27451   happy all my studying and all nighters payed off  positive   \n",
       "36488   8022  Finally something that lets me feel like I'm u...  positive   \n",
       "27676  19459   Thank you  I`d share my sundae with you but i...  positive   \n",
       "\n",
       "       target  \n",
       "38002       0  \n",
       "4513        0  \n",
       "9688        0  \n",
       "27715       0  \n",
       "10784       0  \n",
       "...       ...  \n",
       "26995       2  \n",
       "15920       2  \n",
       "3823        2  \n",
       "36488       2  \n",
       "27676       2  \n",
       "\n",
       "[36504 rows x 4 columns]"
      ]
     },
     "execution_count": 96,
     "metadata": {},
     "output_type": "execute_result"
    }
   ],
   "source": [
    "df_balanced"
   ]
  },
  {
   "cell_type": "code",
   "execution_count": 98,
   "id": "f4579099-0d53-44b5-a65e-f20024634f41",
   "metadata": {},
   "outputs": [
    {
     "data": {
      "text/plain": [
       "target\n",
       "0    12168\n",
       "1    12168\n",
       "2    12168\n",
       "Name: count, dtype: int64"
      ]
     },
     "execution_count": 98,
     "metadata": {},
     "output_type": "execute_result"
    }
   ],
   "source": [
    "# Distribution of the target\n",
    "label_counts = df_balanced['target'].value_counts()\n",
    "\n",
    "label_counts"
   ]
  },
  {
   "cell_type": "code",
   "execution_count": 99,
   "id": "a9b5df39-b39b-46ac-b292-0acb36e77a33",
   "metadata": {},
   "outputs": [
    {
     "data": {
      "image/png": "[encoded data removed]",
      "text/plain": [
       "<Figure size 800x600 with 1 Axes>"
      ]
     },
     "metadata": {},
     "output_type": "display_data"
    }
   ],
   "source": [
    "# Create a bar plot for target distribution\n",
    "plt.figure(figsize=(8, 6))\n",
    "sns.barplot(x=label_counts.index, y=label_counts.values, hue=label_counts.index, palette='coolwarm', dodge=False, legend=False)\n",
    "\n",
    "plt.title('Distribution of Labels')\n",
    "plt.xlabel('Sentiment')\n",
    "plt.ylabel('Count')\n",
    "plt.show()"
   ]
  },
  {
   "cell_type": "code",
   "execution_count": 100,
   "id": "a3adaa0f-cead-4994-898a-acb3963b5d83",
   "metadata": {},
   "outputs": [],
   "source": [
    "df_balanced.to_csv('../data/clean/df_0.csv', index=False)"
   ]
  }
 ],
 "metadata": {
  "kernelspec": {
   "display_name": "Sentiment Analysis Env",
   "language": "python",
   "name": "sentiment_env"
  },
  "language_info": {
   "codemirror_mode": {
    "name": "ipython",
    "version": 3
   },
   "file_extension": ".py",
   "mimetype": "text/x-python",
   "name": "python",
   "nbconvert_exporter": "python",
   "pygments_lexer": "ipython3",
   "version": "3.11.9"
  }
 },
 "nbformat": 4,
 "nbformat_minor": 5
}
