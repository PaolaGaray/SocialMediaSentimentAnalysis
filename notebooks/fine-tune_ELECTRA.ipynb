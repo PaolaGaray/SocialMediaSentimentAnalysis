{
 "cells": [
  {
   "cell_type": "code",
   "execution_count": 3,
   "id": "5f78c068-6267-427f-b552-95ec5bdb56a3",
   "metadata": {},
   "outputs": [],
   "source": [
    "import pandas as pd\n",
    "import matplotlib.pyplot as plt\n",
    "import seaborn as sns\n",
    "import numpy as np\n",
    "from datetime import datetime\n",
    "from scipy.stats import ttest_ind\n",
    "\n",
    "import re\n",
    "from transformers import ElectraTokenizer\n",
    "\n",
    "%matplotlib inline"
   ]
  },
  {
   "cell_type": "code",
   "execution_count": 4,
   "id": "7a4c6c1a-7fb9-439a-ba68-6b30025e275a",
   "metadata": {},
   "outputs": [],
   "source": [
    "# Loading the dataset\n",
    "df = pd.read_csv('../data/clean/df_0.csv', sep=',')"
   ]
  },
  {
   "cell_type": "code",
   "execution_count": 5,
   "id": "00f52a9a-a090-4b3d-9fd5-45e96a7069ef",
   "metadata": {},
   "outputs": [
    {
     "data": {
      "text/html": [
       "<div>\n",
       "<style scoped>\n",
       "    .dataframe tbody tr th:only-of-type {\n",
       "        vertical-align: middle;\n",
       "    }\n",
       "\n",
       "    .dataframe tbody tr th {\n",
       "        vertical-align: top;\n",
       "    }\n",
       "\n",
       "    .dataframe thead th {\n",
       "        text-align: right;\n",
       "    }\n",
       "</style>\n",
       "<table border=\"1\" class=\"dataframe\">\n",
       "  <thead>\n",
       "    <tr style=\"text-align: right;\">\n",
       "      <th></th>\n",
       "      <th>text</th>\n",
       "      <th>cleaned_text</th>\n",
       "    </tr>\n",
       "  </thead>\n",
       "  <tbody>\n",
       "    <tr>\n",
       "      <th>0</th>\n",
       "      <td>Cooking microwave pizzas, yummy</td>\n",
       "      <td>cooking microwave pizzas, yummy</td>\n",
       "    </tr>\n",
       "    <tr>\n",
       "      <th>1</th>\n",
       "      <td>Any plans of allowing sub tasks to show up in ...</td>\n",
       "      <td>any plans of allowing sub tasks to show up in ...</td>\n",
       "    </tr>\n",
       "    <tr>\n",
       "      <th>2</th>\n",
       "      <td>I love the humor, I just reworded it. Like sa...</td>\n",
       "      <td>i love the humor, i just reworded it. like sa...</td>\n",
       "    </tr>\n",
       "    <tr>\n",
       "      <th>3</th>\n",
       "      <td>naw idk what ur talkin about</td>\n",
       "      <td>naw idk what ur talkin about</td>\n",
       "    </tr>\n",
       "    <tr>\n",
       "      <th>4</th>\n",
       "      <td>That sucks to hear. I hate days like that</td>\n",
       "      <td>that sucks to hear. i hate days like that</td>\n",
       "    </tr>\n",
       "  </tbody>\n",
       "</table>\n",
       "</div>"
      ],
      "text/plain": [
       "                                                text  \\\n",
       "0                    Cooking microwave pizzas, yummy   \n",
       "1  Any plans of allowing sub tasks to show up in ...   \n",
       "2   I love the humor, I just reworded it. Like sa...   \n",
       "3                       naw idk what ur talkin about   \n",
       "4          That sucks to hear. I hate days like that   \n",
       "\n",
       "                                        cleaned_text  \n",
       "0                    cooking microwave pizzas, yummy  \n",
       "1  any plans of allowing sub tasks to show up in ...  \n",
       "2   i love the humor, i just reworded it. like sa...  \n",
       "3                       naw idk what ur talkin about  \n",
       "4          that sucks to hear. i hate days like that  "
      ]
     },
     "execution_count": 5,
     "metadata": {},
     "output_type": "execute_result"
    }
   ],
   "source": [
    "# Preprocess the dataset: removing URLs, mentions and hashtags im 'text' column and convert to lowercase\n",
    "\n",
    "# Define a function to clean the text\n",
    "def clean_text(text):\n",
    "    # Remove URLs, mentions, hashtags, and punctuation\n",
    "    text = re.sub(r'http\\S+', '', text)  # Remove URLs\n",
    "    text = re.sub(r'@\\w+', '', text)     # Remove mentions\n",
    "    text = re.sub(r'#\\w+', '', text)     # Remove hashtags\n",
    "    #text = re.sub(r'[^\\w\\s]', '', text)  # Remove punctuation\n",
    "    return text.lower()  # Convert to lowercase\n",
    "\n",
    "# Apply the text cleaning function\n",
    "df['cleaned_text'] = df['text'].apply(clean_text)\n",
    "\n",
    "# Inspect the cleaned text column\n",
    "df[['text', 'cleaned_text']].head()"
   ]
  },
  {
   "cell_type": "markdown",
   "id": "e2d01171-77f5-43ae-9079-bac7b3c2afc5",
   "metadata": {},
   "source": [
    "<br>\n",
    "<br>\n",
    "\n",
    "# Tokenize the data using ELECTRA's Tokenizer\n",
    "Convert words to tokens that map to ELECTRA’s vocabulary."
   ]
  },
  {
   "cell_type": "code",
   "execution_count": 7,
   "id": "b0189f43-4f91-4bd2-bd2f-45d902f12757",
   "metadata": {},
   "outputs": [],
   "source": [
    "# Load the pre-trained ELECTRA tokenizer\n",
    "tokenizer = ElectraTokenizer.from_pretrained('google/electra-small-discriminator', clean_up_tokenization_spaces=True)"
   ]
  },
  {
   "cell_type": "code",
   "execution_count": 13,
   "id": "abb0b056-bd0e-4a9c-91e4-f0222f2d4757",
   "metadata": {},
   "outputs": [
    {
     "data": {
      "text/plain": [
       "0    [input_ids, token_type_ids, attention_mask]\n",
       "1    [input_ids, token_type_ids, attention_mask]\n",
       "2    [input_ids, token_type_ids, attention_mask]\n",
       "3    [input_ids, token_type_ids, attention_mask]\n",
       "4    [input_ids, token_type_ids, attention_mask]\n",
       "Name: cleaned_text, dtype: object"
      ]
     },
     "execution_count": 13,
     "metadata": {},
     "output_type": "execute_result"
    }
   ],
   "source": [
    "# Tokenize the dataset\n",
    "# The tokenizer converts the cleaned text into input IDs and attention masks.\n",
    "\n",
    "def tokenize_function(examples):\n",
    "    return tokenizer(examples, padding='max_length', truncation=True, max_length=128)\n",
    "\n",
    "# Apply the tokenizer to your dataset\n",
    "tokenized_data = df['cleaned_text'].apply(tokenize_function)\n",
    "\n",
    "# Inspect the tokenized data\n",
    "tokenized_data.head()"
   ]
  },
  {
   "cell_type": "code",
   "execution_count": 15,
   "id": "b98d929f-e33f-4067-b534-337c82194d63",
   "metadata": {},
   "outputs": [
    {
     "name": "stdout",
     "output_type": "stream",
     "text": [
      "[101, 8434, 18302, 10733, 2015, 1010, 9805, 18879, 102, 0, 0, 0, 0, 0, 0, 0, 0, 0, 0, 0, 0, 0, 0, 0, 0, 0, 0, 0, 0, 0, 0, 0, 0, 0, 0, 0, 0, 0, 0, 0, 0, 0, 0, 0, 0, 0, 0, 0, 0, 0, 0, 0, 0, 0, 0, 0, 0, 0, 0, 0, 0, 0, 0, 0, 0, 0, 0, 0, 0, 0, 0, 0, 0, 0, 0, 0, 0, 0, 0, 0, 0, 0, 0, 0, 0, 0, 0, 0, 0, 0, 0, 0, 0, 0, 0, 0, 0, 0, 0, 0, 0, 0, 0, 0, 0, 0, 0, 0, 0, 0, 0, 0, 0, 0, 0, 0, 0, 0, 0, 0, 0, 0, 0, 0, 0, 0, 0, 0]\n",
      "[1, 1, 1, 1, 1, 1, 1, 1, 1, 0, 0, 0, 0, 0, 0, 0, 0, 0, 0, 0, 0, 0, 0, 0, 0, 0, 0, 0, 0, 0, 0, 0, 0, 0, 0, 0, 0, 0, 0, 0, 0, 0, 0, 0, 0, 0, 0, 0, 0, 0, 0, 0, 0, 0, 0, 0, 0, 0, 0, 0, 0, 0, 0, 0, 0, 0, 0, 0, 0, 0, 0, 0, 0, 0, 0, 0, 0, 0, 0, 0, 0, 0, 0, 0, 0, 0, 0, 0, 0, 0, 0, 0, 0, 0, 0, 0, 0, 0, 0, 0, 0, 0, 0, 0, 0, 0, 0, 0, 0, 0, 0, 0, 0, 0, 0, 0, 0, 0, 0, 0, 0, 0, 0, 0, 0, 0, 0, 0]\n"
     ]
    }
   ],
   "source": [
    "# Check the first tokenized example and inspect its components\n",
    "first_tokenized_example = tokenized_data.iloc[0]\n",
    "print(first_tokenized_example['input_ids']) # represent the tokenized version of the text, each number corresponds to a specific token (word or subword) in the model’s vocabulary\n",
    "print(first_tokenized_example['attention_mask']) #  tells the model which tokens in the input sequence are actual tokens and which ones are padding."
   ]
  },
  {
   "cell_type": "markdown",
   "id": "e1aeafe9-de7e-4649-a148-ddf9ddfa0f35",
   "metadata": {},
   "source": [
    "<br>\n",
    "<br>\n",
    "# Fine-tune ELECTRA for Sentiment Analysis"
   ]
  },
  {
   "cell_type": "code",
   "execution_count": null,
   "id": "938b182c-f652-48b1-a7eb-a914e658b0b4",
   "metadata": {},
   "outputs": [],
   "source": []
  }
 ],
 "metadata": {
  "kernelspec": {
   "display_name": "Sentiment Analysis Env",
   "language": "python",
   "name": "sentiment_env"
  },
  "language_info": {
   "codemirror_mode": {
    "name": "ipython",
    "version": 3
   },
   "file_extension": ".py",
   "mimetype": "text/x-python",
   "name": "python",
   "nbconvert_exporter": "python",
   "pygments_lexer": "ipython3",
   "version": "3.11.9"
  }
 },
 "nbformat": 4,
 "nbformat_minor": 5
}
