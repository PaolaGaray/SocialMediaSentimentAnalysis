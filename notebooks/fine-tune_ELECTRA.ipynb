{
 "cells": [
  {
   "cell_type": "code",
   "execution_count": 25,
   "id": "5f78c068-6267-427f-b552-95ec5bdb56a3",
   "metadata": {},
   "outputs": [],
   "source": [
    "import pandas as pd\n",
    "import matplotlib.pyplot as plt\n",
    "import seaborn as sns\n",
    "import numpy as np\n",
    "from datetime import datetime\n",
    "from scipy.stats import ttest_ind\n",
    "\n",
    "import re\n",
    "from transformers import ElectraForSequenceClassification, ElectraTokenizerFast\n",
    "import torch\n",
    "\n",
    "\n",
    "%matplotlib inline\n"
   ]
  },
  {
   "cell_type": "code",
   "execution_count": 26,
   "id": "7a4c6c1a-7fb9-439a-ba68-6b30025e275a",
   "metadata": {},
   "outputs": [],
   "source": [
    "# Loading the dataset\n",
    "df = pd.read_csv('../data/clean/df_0.csv', sep=',')"
   ]
  },
  {
   "cell_type": "code",
   "execution_count": 27,
   "id": "00f52a9a-a090-4b3d-9fd5-45e96a7069ef",
   "metadata": {},
   "outputs": [
    {
     "data": {
      "text/html": [
       "<div>\n",
       "<style scoped>\n",
       "    .dataframe tbody tr th:only-of-type {\n",
       "        vertical-align: middle;\n",
       "    }\n",
       "\n",
       "    .dataframe tbody tr th {\n",
       "        vertical-align: top;\n",
       "    }\n",
       "\n",
       "    .dataframe thead th {\n",
       "        text-align: right;\n",
       "    }\n",
       "</style>\n",
       "<table border=\"1\" class=\"dataframe\">\n",
       "  <thead>\n",
       "    <tr style=\"text-align: right;\">\n",
       "      <th></th>\n",
       "      <th>text</th>\n",
       "      <th>cleaned_text</th>\n",
       "    </tr>\n",
       "  </thead>\n",
       "  <tbody>\n",
       "    <tr>\n",
       "      <th>0</th>\n",
       "      <td>Cooking microwave pizzas, yummy</td>\n",
       "      <td>cooking microwave pizzas, yummy</td>\n",
       "    </tr>\n",
       "    <tr>\n",
       "      <th>1</th>\n",
       "      <td>Any plans of allowing sub tasks to show up in ...</td>\n",
       "      <td>any plans of allowing sub tasks to show up in ...</td>\n",
       "    </tr>\n",
       "    <tr>\n",
       "      <th>2</th>\n",
       "      <td>I love the humor, I just reworded it. Like sa...</td>\n",
       "      <td>i love the humor, i just reworded it. like sa...</td>\n",
       "    </tr>\n",
       "    <tr>\n",
       "      <th>3</th>\n",
       "      <td>naw idk what ur talkin about</td>\n",
       "      <td>naw idk what ur talkin about</td>\n",
       "    </tr>\n",
       "    <tr>\n",
       "      <th>4</th>\n",
       "      <td>That sucks to hear. I hate days like that</td>\n",
       "      <td>that sucks to hear. i hate days like that</td>\n",
       "    </tr>\n",
       "  </tbody>\n",
       "</table>\n",
       "</div>"
      ],
      "text/plain": [
       "                                                text  \\\n",
       "0                    Cooking microwave pizzas, yummy   \n",
       "1  Any plans of allowing sub tasks to show up in ...   \n",
       "2   I love the humor, I just reworded it. Like sa...   \n",
       "3                       naw idk what ur talkin about   \n",
       "4          That sucks to hear. I hate days like that   \n",
       "\n",
       "                                        cleaned_text  \n",
       "0                    cooking microwave pizzas, yummy  \n",
       "1  any plans of allowing sub tasks to show up in ...  \n",
       "2   i love the humor, i just reworded it. like sa...  \n",
       "3                       naw idk what ur talkin about  \n",
       "4          that sucks to hear. i hate days like that  "
      ]
     },
     "execution_count": 27,
     "metadata": {},
     "output_type": "execute_result"
    }
   ],
   "source": [
    "# Preprocess the dataset: removing URLs, mentions and hashtags im 'text' column and convert to lowercase\n",
    "\n",
    "# Define a function to clean the text\n",
    "def clean_text(text):\n",
    "    # Remove URLs, mentions, hashtags, and punctuation\n",
    "    text = re.sub(r'http\\S+', '', text)  # Remove URLs\n",
    "    text = re.sub(r'@\\w+', '', text)     # Remove mentions\n",
    "    text = re.sub(r'#\\w+', '', text)     # Remove hashtags\n",
    "    #text = re.sub(r'[^\\w\\s]', '', text)  # Remove punctuation\n",
    "    return text.lower()  # Convert to lowercase\n",
    "\n",
    "# Apply the text cleaning function\n",
    "df['cleaned_text'] = df['text'].apply(clean_text)\n",
    "\n",
    "# Inspect the cleaned text column\n",
    "df[['text', 'cleaned_text']].head()"
   ]
  },
  {
   "cell_type": "markdown",
   "id": "e2d01171-77f5-43ae-9079-bac7b3c2afc5",
   "metadata": {},
   "source": [
    "<br>\n",
    "<br>\n",
    "\n",
    "# Tokenize the data using ELECTRA's Tokenizer\n",
    "Convert words to tokens that map to ELECTRA’s vocabulary."
   ]
  },
  {
   "cell_type": "code",
   "execution_count": 29,
   "id": "3fd14d06-8952-418d-b5c9-02822bd54cb5",
   "metadata": {},
   "outputs": [],
   "source": [
    "# Load the pre-trained ELECTRA tokenizer\n",
    "tokenizer = ElectraTokenizerFast.from_pretrained('google/electra-small-discriminator', clean_up_tokenization_spaces=True)\n"
   ]
  },
  {
   "cell_type": "code",
   "execution_count": 31,
   "id": "2cf6b734-2480-4010-aadc-0ea07996623d",
   "metadata": {},
   "outputs": [],
   "source": [
    "# Tokenize the cleaned data\n",
    "tokenized_data = tokenizer(\n",
    "    df['cleaned_text'].tolist(),  # List of sentences to tokenize\n",
    "    padding=True,                # Pads sequences to the longest sequence in the batch\n",
    "    truncation=True,             # Truncates longer sequences to the max_length\n",
    "    max_length=128,              # Sets the maximum length for tokenized sequences\n",
    "    return_tensors='pt'          # Return as PyTorch tensors\n",
    ")"
   ]
  },
  {
   "cell_type": "code",
   "execution_count": 34,
   "id": "ac86c4e8-fca7-44db-8f5c-f3fef38f4da4",
   "metadata": {},
   "outputs": [
    {
     "name": "stdout",
     "output_type": "stream",
     "text": [
      "Input IDs (first example): tensor([  101,  8434, 18302, 10733,  2015,  1010,  9805, 18879,   102,     0,\n",
      "            0,     0,     0,     0,     0,     0,     0,     0,     0,     0,\n",
      "            0,     0,     0,     0,     0,     0,     0,     0,     0,     0,\n",
      "            0,     0,     0,     0,     0,     0,     0,     0,     0,     0,\n",
      "            0,     0,     0,     0,     0,     0,     0,     0,     0,     0,\n",
      "            0,     0,     0,     0,     0,     0,     0,     0,     0,     0,\n",
      "            0,     0,     0,     0,     0,     0,     0,     0,     0,     0,\n",
      "            0,     0,     0,     0,     0,     0,     0,     0,     0,     0,\n",
      "            0,     0,     0,     0,     0,     0,     0,     0,     0,     0,\n",
      "            0,     0,     0,     0,     0,     0,     0,     0,     0,     0,\n",
      "            0,     0,     0,     0,     0,     0,     0,     0,     0,     0,\n",
      "            0,     0,     0,     0,     0,     0,     0,     0,     0,     0,\n",
      "            0,     0,     0,     0,     0,     0,     0,     0])\n",
      "Attention Mask (first example): tensor([1, 1, 1, 1, 1, 1, 1, 1, 1, 0, 0, 0, 0, 0, 0, 0, 0, 0, 0, 0, 0, 0, 0, 0,\n",
      "        0, 0, 0, 0, 0, 0, 0, 0, 0, 0, 0, 0, 0, 0, 0, 0, 0, 0, 0, 0, 0, 0, 0, 0,\n",
      "        0, 0, 0, 0, 0, 0, 0, 0, 0, 0, 0, 0, 0, 0, 0, 0, 0, 0, 0, 0, 0, 0, 0, 0,\n",
      "        0, 0, 0, 0, 0, 0, 0, 0, 0, 0, 0, 0, 0, 0, 0, 0, 0, 0, 0, 0, 0, 0, 0, 0,\n",
      "        0, 0, 0, 0, 0, 0, 0, 0, 0, 0, 0, 0, 0, 0, 0, 0, 0, 0, 0, 0, 0, 0, 0, 0,\n",
      "        0, 0, 0, 0, 0, 0, 0, 0])\n",
      "Length of Input IDs: 128\n",
      "Length of Attention Mask: 128\n"
     ]
    }
   ],
   "source": [
    "# Inspect the tokenized data\n",
    "\n",
    "# Check the first tokenized example\n",
    "print(\"Input IDs (first example):\", tokenized_data['input_ids'][0])\n",
    "print(\"Attention Mask (first example):\", tokenized_data['attention_mask'][0])\n",
    "\n",
    "# Check the length of the input_ids and attention_mask (should be 128 if max_length=128 was set)\n",
    "print(\"Length of Input IDs:\", len(tokenized_data['input_ids'][0]))\n",
    "print(\"Length of Attention Mask:\", len(tokenized_data['attention_mask'][0]))\n"
   ]
  },
  {
   "cell_type": "markdown",
   "id": "e1aeafe9-de7e-4649-a148-ddf9ddfa0f35",
   "metadata": {},
   "source": [
    "<br>\n",
    "<br>\n",
    "\n",
    "# Fine-tune ELECTRA for Sentiment Analysis\n",
    "ELECTRA is pre-trained on general text but needs to be fine-tuned to classify sentiments based on my dataset."
   ]
  }
 ],
 "metadata": {
  "kernelspec": {
   "display_name": "Sentiment Analysis Env",
   "language": "python",
   "name": "sentiment_env"
  },
  "language_info": {
   "codemirror_mode": {
    "name": "ipython",
    "version": 3
   },
   "file_extension": ".py",
   "mimetype": "text/x-python",
   "name": "python",
   "nbconvert_exporter": "python",
   "pygments_lexer": "ipython3",
   "version": "3.11.9"
  }
 },
 "nbformat": 4,
 "nbformat_minor": 5
}
