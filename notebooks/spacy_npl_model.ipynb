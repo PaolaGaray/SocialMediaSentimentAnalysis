{
 "cells": [
  {
   "cell_type": "code",
   "execution_count": 7,
   "id": "7b243f65-f005-4009-92cf-9385b3114a6c",
   "metadata": {},
   "outputs": [],
   "source": [
    "import pandas as pd\n",
    "import matplotlib.pyplot as plt\n",
    "import seaborn as sns\n",
    "import numpy as np\n",
    "from datetime import datetime\n",
    "from scipy.stats import ttest_ind\n",
    "import spacy\n",
    "\n",
    "import re\n",
    "\n",
    "%matplotlib inline\n",
    "\n",
    "import warnings\n",
    "\n",
    "from sklearn.feature_extraction.text import TfidfVectorizer\n",
    "import pickle\n",
    "# warnings.filterwarnings('ignore')"
   ]
  },
  {
   "cell_type": "code",
   "execution_count": 15,
   "id": "42d19015-3aa7-4c6a-889b-a6b98dab897a",
   "metadata": {},
   "outputs": [],
   "source": [
    "# Loading the dataset\n",
    "df = pd.read_csv('../data/clean/df_0.csv', sep=',')"
   ]
  },
  {
   "cell_type": "code",
   "execution_count": 11,
   "id": "18850fd9-8292-461d-9588-41be493bd86d",
   "metadata": {},
   "outputs": [
    {
     "data": {
      "text/html": [
       "<div>\n",
       "<style scoped>\n",
       "    .dataframe tbody tr th:only-of-type {\n",
       "        vertical-align: middle;\n",
       "    }\n",
       "\n",
       "    .dataframe tbody tr th {\n",
       "        vertical-align: top;\n",
       "    }\n",
       "\n",
       "    .dataframe thead th {\n",
       "        text-align: right;\n",
       "    }\n",
       "</style>\n",
       "<table border=\"1\" class=\"dataframe\">\n",
       "  <thead>\n",
       "    <tr style=\"text-align: right;\">\n",
       "      <th></th>\n",
       "      <th>id</th>\n",
       "      <th>text</th>\n",
       "      <th>target</th>\n",
       "      <th>sentiment</th>\n",
       "    </tr>\n",
       "  </thead>\n",
       "  <tbody>\n",
       "    <tr>\n",
       "      <th>0</th>\n",
       "      <td>9536</td>\n",
       "      <td>Cooking microwave pizzas, yummy</td>\n",
       "      <td>2</td>\n",
       "      <td>positive</td>\n",
       "    </tr>\n",
       "    <tr>\n",
       "      <th>1</th>\n",
       "      <td>6135</td>\n",
       "      <td>Any plans of allowing sub tasks to show up in ...</td>\n",
       "      <td>1</td>\n",
       "      <td>neutral</td>\n",
       "    </tr>\n",
       "    <tr>\n",
       "      <th>2</th>\n",
       "      <td>17697</td>\n",
       "      <td>I love the humor, I just reworded it. Like sa...</td>\n",
       "      <td>2</td>\n",
       "      <td>positive</td>\n",
       "    </tr>\n",
       "    <tr>\n",
       "      <th>3</th>\n",
       "      <td>14182</td>\n",
       "      <td>naw idk what ur talkin about</td>\n",
       "      <td>1</td>\n",
       "      <td>neutral</td>\n",
       "    </tr>\n",
       "    <tr>\n",
       "      <th>4</th>\n",
       "      <td>17840</td>\n",
       "      <td>That sucks to hear. I hate days like that</td>\n",
       "      <td>0</td>\n",
       "      <td>negative</td>\n",
       "    </tr>\n",
       "    <tr>\n",
       "      <th>...</th>\n",
       "      <td>...</td>\n",
       "      <td>...</td>\n",
       "      <td>...</td>\n",
       "      <td>...</td>\n",
       "    </tr>\n",
       "    <tr>\n",
       "      <th>41637</th>\n",
       "      <td>9043</td>\n",
       "      <td>Not sure what happened but now I have to hit t...</td>\n",
       "      <td>1</td>\n",
       "      <td>neutral</td>\n",
       "    </tr>\n",
       "    <tr>\n",
       "      <th>41638</th>\n",
       "      <td>6160</td>\n",
       "      <td>Pretty good app, lets you organize tasks by ca...</td>\n",
       "      <td>2</td>\n",
       "      <td>positive</td>\n",
       "    </tr>\n",
       "    <tr>\n",
       "      <th>41639</th>\n",
       "      <td>5655</td>\n",
       "      <td>This app is a piece of sh**. It won't sync my ...</td>\n",
       "      <td>0</td>\n",
       "      <td>negative</td>\n",
       "    </tr>\n",
       "    <tr>\n",
       "      <th>41640</th>\n",
       "      <td>11834</td>\n",
       "      <td>: Very interested. However, low carbs for the ...</td>\n",
       "      <td>2</td>\n",
       "      <td>positive</td>\n",
       "    </tr>\n",
       "    <tr>\n",
       "      <th>41641</th>\n",
       "      <td>6904</td>\n",
       "      <td>Good app, but not exactly what I was looking f...</td>\n",
       "      <td>2</td>\n",
       "      <td>positive</td>\n",
       "    </tr>\n",
       "  </tbody>\n",
       "</table>\n",
       "<p>41642 rows × 4 columns</p>\n",
       "</div>"
      ],
      "text/plain": [
       "          id                                               text  target  \\\n",
       "0       9536                    Cooking microwave pizzas, yummy       2   \n",
       "1       6135  Any plans of allowing sub tasks to show up in ...       1   \n",
       "2      17697   I love the humor, I just reworded it. Like sa...       2   \n",
       "3      14182                       naw idk what ur talkin about       1   \n",
       "4      17840          That sucks to hear. I hate days like that       0   \n",
       "...      ...                                                ...     ...   \n",
       "41637   9043  Not sure what happened but now I have to hit t...       1   \n",
       "41638   6160  Pretty good app, lets you organize tasks by ca...       2   \n",
       "41639   5655  This app is a piece of sh**. It won't sync my ...       0   \n",
       "41640  11834  : Very interested. However, low carbs for the ...       2   \n",
       "41641   6904  Good app, but not exactly what I was looking f...       2   \n",
       "\n",
       "      sentiment  \n",
       "0      positive  \n",
       "1       neutral  \n",
       "2      positive  \n",
       "3       neutral  \n",
       "4      negative  \n",
       "...         ...  \n",
       "41637   neutral  \n",
       "41638  positive  \n",
       "41639  negative  \n",
       "41640  positive  \n",
       "41641  positive  \n",
       "\n",
       "[41642 rows x 4 columns]"
      ]
     },
     "execution_count": 11,
     "metadata": {},
     "output_type": "execute_result"
    }
   ],
   "source": [
    "df"
   ]
  },
  {
   "cell_type": "markdown",
   "id": "f5e30da5-d106-4811-817f-a78ff747a8ce",
   "metadata": {},
   "source": [
    "# Data Preprocessing with spaCy"
   ]
  },
  {
   "cell_type": "markdown",
   "id": "78ccd916-1bc4-49f1-ac49-7f3cc6866c57",
   "metadata": {},
   "source": [
    "**Clean the text**"
   ]
  },
  {
   "cell_type": "code",
   "execution_count": 17,
   "id": "f2a24940-9571-4c58-8705-4d5b76edba0a",
   "metadata": {},
   "outputs": [
    {
     "data": {
      "text/html": [
       "<div>\n",
       "<style scoped>\n",
       "    .dataframe tbody tr th:only-of-type {\n",
       "        vertical-align: middle;\n",
       "    }\n",
       "\n",
       "    .dataframe tbody tr th {\n",
       "        vertical-align: top;\n",
       "    }\n",
       "\n",
       "    .dataframe thead th {\n",
       "        text-align: right;\n",
       "    }\n",
       "</style>\n",
       "<table border=\"1\" class=\"dataframe\">\n",
       "  <thead>\n",
       "    <tr style=\"text-align: right;\">\n",
       "      <th></th>\n",
       "      <th>text</th>\n",
       "      <th>cleaned_text</th>\n",
       "    </tr>\n",
       "  </thead>\n",
       "  <tbody>\n",
       "    <tr>\n",
       "      <th>0</th>\n",
       "      <td>Cooking microwave pizzas, yummy</td>\n",
       "      <td>cooking microwave pizzas yummy</td>\n",
       "    </tr>\n",
       "    <tr>\n",
       "      <th>1</th>\n",
       "      <td>Any plans of allowing sub tasks to show up in ...</td>\n",
       "      <td>any plans of allowing sub tasks to show up in ...</td>\n",
       "    </tr>\n",
       "    <tr>\n",
       "      <th>2</th>\n",
       "      <td>I love the humor, I just reworded it. Like sa...</td>\n",
       "      <td>i love the humor i just reworded it like sayi...</td>\n",
       "    </tr>\n",
       "    <tr>\n",
       "      <th>3</th>\n",
       "      <td>naw idk what ur talkin about</td>\n",
       "      <td>naw idk what ur talkin about</td>\n",
       "    </tr>\n",
       "    <tr>\n",
       "      <th>4</th>\n",
       "      <td>That sucks to hear. I hate days like that</td>\n",
       "      <td>that sucks to hear i hate days like that</td>\n",
       "    </tr>\n",
       "  </tbody>\n",
       "</table>\n",
       "</div>"
      ],
      "text/plain": [
       "                                                text  \\\n",
       "0                    Cooking microwave pizzas, yummy   \n",
       "1  Any plans of allowing sub tasks to show up in ...   \n",
       "2   I love the humor, I just reworded it. Like sa...   \n",
       "3                       naw idk what ur talkin about   \n",
       "4          That sucks to hear. I hate days like that   \n",
       "\n",
       "                                        cleaned_text  \n",
       "0                     cooking microwave pizzas yummy  \n",
       "1  any plans of allowing sub tasks to show up in ...  \n",
       "2   i love the humor i just reworded it like sayi...  \n",
       "3                       naw idk what ur talkin about  \n",
       "4           that sucks to hear i hate days like that  "
      ]
     },
     "execution_count": 17,
     "metadata": {},
     "output_type": "execute_result"
    }
   ],
   "source": [
    "# Preprocess the dataset: removing URLs, mentions and hashtags im 'text' column and convert to lowercase\n",
    "\n",
    "# Define a function to clean the text\n",
    "def clean_text(text):\n",
    "    # Remove URLs, mentions, hashtags, and punctuation\n",
    "    text = re.sub(r'http\\S+', '', text)  # Remove URLs\n",
    "    text = re.sub(r'@\\w+', '', text)     # Remove mentions\n",
    "    text = re.sub(r'#\\w+', '', text)     # Remove hashtags\n",
    "    text = re.sub(r'[^\\w\\s]', '', text)  # Remove punctuation\n",
    "    return text.lower()  # Convert to lowercase\n",
    "\n",
    "# Apply the text cleaning function\n",
    "df['cleaned_text'] = df['text'].apply(clean_text)\n",
    "\n",
    "# Inspect the cleaned text column\n",
    "df[['text', 'cleaned_text']].head()"
   ]
  },
  {
   "cell_type": "markdown",
   "id": "7ad2578a-04c7-4af4-a9b0-efe6980310cd",
   "metadata": {},
   "source": [
    "<br>\n",
    "<br>\n",
    "\n",
    "**Split the Data into Training and Testing Sets**\n",
    "\n",
    "Before we can fit the TF-IDF vectorizer and train the model, we need to split the dataset into training and testing sets. This allows us to evaluate the model’s performance on unseen data.\n",
    "\n",
    "Split the dataset into a training set and a testing set.\n",
    "- Training set: used to fit the TF-IDF vectorizer and train the machine learning model.\n",
    "- Testing set: used to evaluate the model's performance."
   ]
  },
  {
   "cell_type": "code",
   "execution_count": 24,
   "id": "10541819-acf1-4c56-b25a-5cbae67d5f0c",
   "metadata": {},
   "outputs": [
    {
     "name": "stdout",
     "output_type": "stream",
     "text": [
      "Training set size: 33313\n",
      "Testing set size: 8329\n"
     ]
    }
   ],
   "source": [
    "from sklearn.model_selection import train_test_split\n",
    "\n",
    "# Split the data\n",
    "X = df['cleaned_text']  # Features (text)\n",
    "y = df['target']  # Target (sentiment label)\n",
    "\n",
    "# Split into 80% training and 20% testing\n",
    "X_train, X_test, y_train, y_test = train_test_split(X, y, test_size=0.2, random_state=42)\n",
    "\n",
    "# Display the sizes of the training and testing sets\n",
    "print(f\"Training set size: {len(X_train)}\")\n",
    "print(f\"Testing set size: {len(X_test)}\")\n"
   ]
  },
  {
   "cell_type": "markdown",
   "id": "c3111357-ccf5-4db8-99ce-62ea41902da8",
   "metadata": {},
   "source": [
    "<br>\n",
    "<br>\n",
    "\n",
    "**Tokenization and Lemmatization with spaCy**\n",
    " \n",
    " This step will break the text into individual words (tokens) and convert each word to its base form (lemma).This step should happen before fitting the TF-IDF vectorizer, so the vectorizer can work on the final, processed text."
   ]
  },
  {
   "cell_type": "code",
   "execution_count": 30,
   "id": "7fa1912d-cc18-46dd-97af-f34909fb7ea6",
   "metadata": {},
   "outputs": [
    {
     "name": "stdout",
     "output_type": "stream",
     "text": [
      "                                        cleaned_text  \\\n",
      "0                     cooking microwave pizzas yummy   \n",
      "1  any plans of allowing sub tasks to show up in ...   \n",
      "2   i love the humor i just reworded it like sayi...   \n",
      "3                       naw idk what ur talkin about   \n",
      "4           that sucks to hear i hate days like that   \n",
      "\n",
      "                                              tokens  \n",
      "0                    [cook, microwave, pizza, yummy]  \n",
      "1                   [plan, allow, sub, task, widget]  \n",
      "2  [ , love, humor, reword, like, say, group, the...  \n",
      "3                          [ , naw, idk, ur, talkin]  \n",
      "4                   [ , suck, hear, hate, day, like]  \n"
     ]
    }
   ],
   "source": [
    "# Load spaCy's small English model\n",
    "nlp = spacy.load('en_core_web_sm')\n",
    "\n",
    "# Function to tokenize and lemmatize text and also removes stopwords\n",
    "def tokenize_and_lemmatize(text):\n",
    "    doc = nlp(text)\n",
    "    return [token.lemma_ for token in doc if not token.is_stop]  # Lemmatize and remove stopwords\n",
    "\n",
    "# Apply the tokenization and lemmatization function\n",
    "df['tokens'] = df['cleaned_text'].apply(tokenize_and_lemmatize)\n",
    "\n",
    "# Inspect the tokenized and lemmatized text\n",
    "print(df[['cleaned_text', 'tokens']].head())"
   ]
  },
  {
   "cell_type": "code",
   "execution_count": 29,
   "id": "c945750d-88f8-483b-9c73-85bae9d20065",
   "metadata": {},
   "outputs": [
    {
     "data": {
      "text/html": [
       "<div>\n",
       "<style scoped>\n",
       "    .dataframe tbody tr th:only-of-type {\n",
       "        vertical-align: middle;\n",
       "    }\n",
       "\n",
       "    .dataframe tbody tr th {\n",
       "        vertical-align: top;\n",
       "    }\n",
       "\n",
       "    .dataframe thead th {\n",
       "        text-align: right;\n",
       "    }\n",
       "</style>\n",
       "<table border=\"1\" class=\"dataframe\">\n",
       "  <thead>\n",
       "    <tr style=\"text-align: right;\">\n",
       "      <th></th>\n",
       "      <th>id</th>\n",
       "      <th>text</th>\n",
       "      <th>target</th>\n",
       "      <th>sentiment</th>\n",
       "      <th>cleaned_text</th>\n",
       "      <th>tokens</th>\n",
       "    </tr>\n",
       "  </thead>\n",
       "  <tbody>\n",
       "    <tr>\n",
       "      <th>0</th>\n",
       "      <td>9536</td>\n",
       "      <td>Cooking microwave pizzas, yummy</td>\n",
       "      <td>2</td>\n",
       "      <td>positive</td>\n",
       "      <td>cooking microwave pizzas yummy</td>\n",
       "      <td>[cook, microwave, pizza, yummy]</td>\n",
       "    </tr>\n",
       "    <tr>\n",
       "      <th>1</th>\n",
       "      <td>6135</td>\n",
       "      <td>Any plans of allowing sub tasks to show up in ...</td>\n",
       "      <td>1</td>\n",
       "      <td>neutral</td>\n",
       "      <td>any plans of allowing sub tasks to show up in ...</td>\n",
       "      <td>[plan, allow, sub, task, widget]</td>\n",
       "    </tr>\n",
       "    <tr>\n",
       "      <th>2</th>\n",
       "      <td>17697</td>\n",
       "      <td>I love the humor, I just reworded it. Like sa...</td>\n",
       "      <td>2</td>\n",
       "      <td>positive</td>\n",
       "      <td>i love the humor i just reworded it like sayi...</td>\n",
       "      <td>[ , love, humor, reword, like, say, group, the...</td>\n",
       "    </tr>\n",
       "    <tr>\n",
       "      <th>3</th>\n",
       "      <td>14182</td>\n",
       "      <td>naw idk what ur talkin about</td>\n",
       "      <td>1</td>\n",
       "      <td>neutral</td>\n",
       "      <td>naw idk what ur talkin about</td>\n",
       "      <td>[ , naw, idk, ur, talkin]</td>\n",
       "    </tr>\n",
       "    <tr>\n",
       "      <th>4</th>\n",
       "      <td>17840</td>\n",
       "      <td>That sucks to hear. I hate days like that</td>\n",
       "      <td>0</td>\n",
       "      <td>negative</td>\n",
       "      <td>that sucks to hear i hate days like that</td>\n",
       "      <td>[ , suck, hear, hate, day, like]</td>\n",
       "    </tr>\n",
       "    <tr>\n",
       "      <th>...</th>\n",
       "      <td>...</td>\n",
       "      <td>...</td>\n",
       "      <td>...</td>\n",
       "      <td>...</td>\n",
       "      <td>...</td>\n",
       "      <td>...</td>\n",
       "    </tr>\n",
       "    <tr>\n",
       "      <th>41637</th>\n",
       "      <td>9043</td>\n",
       "      <td>Not sure what happened but now I have to hit t...</td>\n",
       "      <td>1</td>\n",
       "      <td>neutral</td>\n",
       "      <td>not sure what happened but now i have to hit t...</td>\n",
       "      <td>[sure, happen, hit, sync, button, time, calend...</td>\n",
       "    </tr>\n",
       "    <tr>\n",
       "      <th>41638</th>\n",
       "      <td>6160</td>\n",
       "      <td>Pretty good app, lets you organize tasks by ca...</td>\n",
       "      <td>2</td>\n",
       "      <td>positive</td>\n",
       "      <td>pretty good app lets you organize tasks by cat...</td>\n",
       "      <td>[pretty, good, app, let, organize, task, categ...</td>\n",
       "    </tr>\n",
       "    <tr>\n",
       "      <th>41639</th>\n",
       "      <td>5655</td>\n",
       "      <td>This app is a piece of sh**. It won't sync my ...</td>\n",
       "      <td>0</td>\n",
       "      <td>negative</td>\n",
       "      <td>this app is a piece of sh it wont sync my old ...</td>\n",
       "      <td>[app, piece, sh, will, not, sync, old, wunderl...</td>\n",
       "    </tr>\n",
       "    <tr>\n",
       "      <th>41640</th>\n",
       "      <td>11834</td>\n",
       "      <td>: Very interested. However, low carbs for the ...</td>\n",
       "      <td>2</td>\n",
       "      <td>positive</td>\n",
       "      <td>very interested however low carbs for the nex...</td>\n",
       "      <td>[ , interested, low, carb, month, mean, beer]</td>\n",
       "    </tr>\n",
       "    <tr>\n",
       "      <th>41641</th>\n",
       "      <td>6904</td>\n",
       "      <td>Good app, but not exactly what I was looking f...</td>\n",
       "      <td>2</td>\n",
       "      <td>positive</td>\n",
       "      <td>good app but not exactly what i was looking fo...</td>\n",
       "      <td>[good, app, exactly, look, app, use, calendar,...</td>\n",
       "    </tr>\n",
       "  </tbody>\n",
       "</table>\n",
       "<p>41642 rows × 6 columns</p>\n",
       "</div>"
      ],
      "text/plain": [
       "          id                                               text  target  \\\n",
       "0       9536                    Cooking microwave pizzas, yummy       2   \n",
       "1       6135  Any plans of allowing sub tasks to show up in ...       1   \n",
       "2      17697   I love the humor, I just reworded it. Like sa...       2   \n",
       "3      14182                       naw idk what ur talkin about       1   \n",
       "4      17840          That sucks to hear. I hate days like that       0   \n",
       "...      ...                                                ...     ...   \n",
       "41637   9043  Not sure what happened but now I have to hit t...       1   \n",
       "41638   6160  Pretty good app, lets you organize tasks by ca...       2   \n",
       "41639   5655  This app is a piece of sh**. It won't sync my ...       0   \n",
       "41640  11834  : Very interested. However, low carbs for the ...       2   \n",
       "41641   6904  Good app, but not exactly what I was looking f...       2   \n",
       "\n",
       "      sentiment                                       cleaned_text  \\\n",
       "0      positive                     cooking microwave pizzas yummy   \n",
       "1       neutral  any plans of allowing sub tasks to show up in ...   \n",
       "2      positive   i love the humor i just reworded it like sayi...   \n",
       "3       neutral                       naw idk what ur talkin about   \n",
       "4      negative           that sucks to hear i hate days like that   \n",
       "...         ...                                                ...   \n",
       "41637   neutral  not sure what happened but now i have to hit t...   \n",
       "41638  positive  pretty good app lets you organize tasks by cat...   \n",
       "41639  negative  this app is a piece of sh it wont sync my old ...   \n",
       "41640  positive   very interested however low carbs for the nex...   \n",
       "41641  positive  good app but not exactly what i was looking fo...   \n",
       "\n",
       "                                                  tokens  \n",
       "0                        [cook, microwave, pizza, yummy]  \n",
       "1                       [plan, allow, sub, task, widget]  \n",
       "2      [ , love, humor, reword, like, say, group, the...  \n",
       "3                              [ , naw, idk, ur, talkin]  \n",
       "4                       [ , suck, hear, hate, day, like]  \n",
       "...                                                  ...  \n",
       "41637  [sure, happen, hit, sync, button, time, calend...  \n",
       "41638  [pretty, good, app, let, organize, task, categ...  \n",
       "41639  [app, piece, sh, will, not, sync, old, wunderl...  \n",
       "41640      [ , interested, low, carb, month, mean, beer]  \n",
       "41641  [good, app, exactly, look, app, use, calendar,...  \n",
       "\n",
       "[41642 rows x 6 columns]"
      ]
     },
     "execution_count": 29,
     "metadata": {},
     "output_type": "execute_result"
    }
   ],
   "source": [
    "df"
   ]
  },
  {
   "cell_type": "code",
   "execution_count": 33,
   "id": "ef91a840-d3b4-43b7-95b8-5573083c7a03",
   "metadata": {},
   "outputs": [],
   "source": [
    "# Save the cleaned and tokenized data to a new CSV file\n",
    "df.to_csv('../data/clean/preprocessed_data.csv', index=False)"
   ]
  },
  {
   "cell_type": "markdown",
   "id": "29f24f45-a470-4195-95b6-e972d5a006c8",
   "metadata": {},
   "source": [
    "<br>\n",
    "<br>\n",
    "\n",
    "**Fit the TF-IDF Vectorizer**\n",
    "\n",
    "Use **TF-IDF** (Term Frequency-Inverse Document Frequency) to convert the text into a numerical format, and then use a model like Logistic Regression or Naive Bayes to classify the sentiment.\n"
   ]
  },
  {
   "cell_type": "code",
   "execution_count": 38,
   "id": "76787776-8902-4b0c-854c-b16426dd336c",
   "metadata": {},
   "outputs": [],
   "source": [
    "# Initialize the TF-IDF vectorizer\n",
    "tfidf = TfidfVectorizer(max_features=5000) # transforms text data into numerical vectors based on the TF-IDF scoring.\n",
    "# limits the number of words in the vocabulary to the top 5000 most important terms (based on the term frequency and inverse document frequency).\n",
    "\n",
    "# Fit the vectorizer on the training data (lemmatized text)\n",
    "tfidf.fit(X_train) # The vectorizer goes through the training data (X_train) and learns the vocabulary and IDF weights.\n",
    "# It scans the text and builds a vocabulary of words that it will use to create TF-IDF vectors.\n",
    "# It calculates the Term Frequency (TF): How often each word appears in a document.\n",
    "# It calculates the Inverse Document Frequency (IDF): How important a word is, based on how rare it is across the entire dataset.\n",
    "\n",
    "# After fitting, the vectorizer knows:\n",
    "# What the important words are based on their frequency across documents.\n",
    "# How to assign importance to words by calculating the IDF scores.\n",
    "\n",
    "\n",
    "# Save the vectorizer for future use\n",
    "with open('../vectorizers/tfidf_vectorizer.pkl', 'wb') as f:\n",
    "    pickle.dump(tfidf, f)\n",
    "\n",
    "# pickle.dump(tfidf, f) saves the fitted vectorizer into a file (tfidf_vectorizer.pkl) using the Python library pickle.\n",
    "# The vectorizer has already learned the vocabulary and the TF-IDF weights from the training data. Saving it ensures that we can reuse the vectorizer later \n",
    "# in our application without having to refit it every time.\n",
    "\n",
    "\n",
    "# What Happens During Fitting:\n",
    "# Step 1: The vectorizer scans through all the words in your training data (i.e., the lemmatized text).\n",
    "# Step 2: It calculates the frequency and importance of each word in the context of all the documents.\n",
    "# Step 3: After this process, the vectorizer knows how to represent new text as vectors."
   ]
  },
  {
   "cell_type": "markdown",
   "id": "156dd13b-c029-4450-a5f2-340a4af9520a",
   "metadata": {},
   "source": [
    "**Vectorize the Text Using TF-IDF**"
   ]
  },
  {
   "cell_type": "code",
   "execution_count": 47,
   "id": "8244a1af-a650-4a0d-8bd5-936adb4045a4",
   "metadata": {},
   "outputs": [
    {
     "name": "stdout",
     "output_type": "stream",
     "text": [
      "Shape of training data: (33313, 5000)\n"
     ]
    }
   ],
   "source": [
    "# Transform the training and testing data\n",
    "# Now that the vectorizer is fitted, it can convert the text data into a matrix of TF-IDF scores.\n",
    "\n",
    "X_train_tfidf = tfidf.transform(X_train)\n",
    "X_test_tfidf = tfidf.transform(X_test)\n",
    "\n",
    "print(f\"Shape of training data: {X_train_tfidf.shape}\")\n",
    "# The transform() function takes the cleaned and lemmatized text and converts it into a sparse matrix of TF-IDF features.\n",
    "# The resulting TF-IDF vectors are numerical representations of the original text that will be used to train and test the machine learning model."
   ]
  },
  {
   "cell_type": "code",
   "execution_count": 49,
   "id": "28d21f54-4e2b-4e02-8e68-4394aa636046",
   "metadata": {},
   "outputs": [
    {
     "data": {
      "text/plain": [
       "<33313x5000 sparse matrix of type '<class 'numpy.float64'>'\n",
       "\twith 452919 stored elements in Compressed Sparse Row format>"
      ]
     },
     "execution_count": 49,
     "metadata": {},
     "output_type": "execute_result"
    }
   ],
   "source": [
    "X_train_tfidf"
   ]
  },
  {
   "cell_type": "code",
   "execution_count": 53,
   "id": "fa3a7206-78ad-4b2b-bd07-268fea1790f3",
   "metadata": {},
   "outputs": [],
   "source": [
    "# Recap:\n",
    "# Step 1: You initialize the vectorizer, telling it to look for the top 5000 features in the text.\n",
    "# Step 2: You fit the vectorizer on the training data, which teaches it the vocabulary and calculates TF-IDF scores for the words.\n",
    "# Step 3: You save the vectorizer so that the same vocabulary and weights can be used later for prediction on new data.\n",
    "# Step 4: You transform both the training and testing data into TF-IDF vectors, which are ready to be fed into a machine learning model.\n",
    "\n",
    "# Once this is done, your text data is converted into a numerical format that a machine learning model can work with. \n",
    "# Now that you’ve transformed the data, the next step will be to train a machine learning model on the TF-IDF vectors."
   ]
  },
  {
   "cell_type": "markdown",
   "id": "1cf7de89-de2d-4873-8a0a-c6d4a1002692",
   "metadata": {},
   "source": [
    "<br>\n",
    "<br>\n",
    "\n",
    "# Train a Logistic Regression Model\n",
    "\n",
    "we will train a model to predict the sentiment (positive, neutral, or negative) based on the TF-IDF vectors created from the text data.\n",
    "\n",
    "Code to Train the Model:\n",
    "- Train the Logistic Regression Model using the training TF-IDF vectors (*X_train_tfidf*) and the labels (*y_train*).\n",
    "- Evaluate the model on the testing set (*X_test_tfidf*) to check its accuracy."
   ]
  },
  {
   "cell_type": "code",
   "execution_count": 62,
   "id": "ae1c3b21-dd5d-44f3-875b-8cc22be8b9da",
   "metadata": {},
   "outputs": [],
   "source": [
    "from sklearn.linear_model import LogisticRegression\n",
    "\n",
    "\n",
    "# Initialize the Logistic Regression model\n",
    "model = LogisticRegression(max_iter=1000, random_state=42)\n",
    "\n",
    "# Train the model on the TF-IDF vectors (training data)\n",
    "model.fit(X_train_tfidf, y_train)\n",
    "\n",
    "# Save the trained model for future use\n",
    "with open('../models/logistic_regression_model.pkl', 'wb') as f:\n",
    "    pickle.dump(model, f)"
   ]
  },
  {
   "cell_type": "markdown",
   "id": "ec1342b8-5665-434f-9126-caa33aff995d",
   "metadata": {},
   "source": [
    "<br>\n",
    "<br>\n",
    "\n",
    "**Predict on the test set**"
   ]
  },
  {
   "cell_type": "code",
   "execution_count": 68,
   "id": "9ef76f43-f56c-4f04-900f-10d724bd86f6",
   "metadata": {},
   "outputs": [
    {
     "name": "stdout",
     "output_type": "stream",
     "text": [
      "Predictions: [0 1 1 1 1 1 2 1 2 1]\n",
      "Actual labels: [0 1 1 2 0 2 2 0 1 2]\n"
     ]
    }
   ],
   "source": [
    "# Make predictions on the test data\n",
    "y_pred = model.predict(X_test_tfidf)\n",
    "\n",
    "# Print some predictions and actual labels to check\n",
    "print(f\"Predictions: {y_pred[:10]}\")\n",
    "print(f\"Actual labels: {y_test[:10].values}\")"
   ]
  },
  {
   "cell_type": "markdown",
   "id": "bc3852f1-a950-4ab1-a315-3823cc4af38e",
   "metadata": {},
   "source": [
    "<br>\n",
    "<br>\n",
    "\n",
    "Export **y_test** and **y_pred**"
   ]
  },
  {
   "cell_type": "code",
   "execution_count": 87,
   "id": "059f78b3-8dd1-403a-a6f8-542a549114b5",
   "metadata": {},
   "outputs": [],
   "source": [
    "import pickle\n",
    "\n",
    "# Save y_test\n",
    "with open('../data/clean/y_test.pkl', 'wb') as f:\n",
    "    pickle.dump(y_test, f)\n",
    "\n",
    "# Save y_pred\n",
    "with open('../data/clean/y_pred.pkl', 'wb') as f:\n",
    "    pickle.dump(y_pred, f)\n"
   ]
  },
  {
   "cell_type": "markdown",
   "id": "f6861229-ded3-4e33-a22e-6a7ac6f370f2",
   "metadata": {},
   "source": [
    "<br>\n",
    "<br>\n",
    "\n",
    "**Evaluate the Model Performance**"
   ]
  },
  {
   "cell_type": "code",
   "execution_count": 74,
   "id": "8224a874-ddf9-43b3-aa19-e0f341621239",
   "metadata": {},
   "outputs": [
    {
     "data": {
      "text/plain": [
       "0.676191619642214"
      ]
     },
     "execution_count": 74,
     "metadata": {},
     "output_type": "execute_result"
    }
   ],
   "source": [
    "from sklearn.metrics import classification_report, confusion_matrix, accuracy_score\n",
    "\n",
    "accuracy = accuracy_score(y_test, y_pred)\n",
    "\n",
    "accuracy"
   ]
  },
  {
   "cell_type": "code",
   "execution_count": 76,
   "id": "6a4569c0-694b-41c0-a521-9d60f163dffb",
   "metadata": {},
   "outputs": [
    {
     "name": "stdout",
     "output_type": "stream",
     "text": [
      "              precision    recall  f1-score   support\n",
      "\n",
      "    negative       0.69      0.63      0.66      2481\n",
      "     neutral       0.59      0.68      0.63      3038\n",
      "    positive       0.78      0.72      0.75      2810\n",
      "\n",
      "    accuracy                           0.68      8329\n",
      "   macro avg       0.69      0.67      0.68      8329\n",
      "weighted avg       0.68      0.68      0.68      8329\n",
      "\n"
     ]
    }
   ],
   "source": [
    "\n",
    "\n",
    "# Evaluate the model\n",
    "print(classification_report(y_test, y_pred, target_names=['negative', 'neutral', 'positive']))\n"
   ]
  },
  {
   "cell_type": "code",
   "execution_count": 78,
   "id": "310e2cdb-8cf3-4e0f-a100-ac9397728d7f",
   "metadata": {},
   "outputs": [
    {
     "data": {
      "image/png": "[encoded data removed]",
      "text/plain": [
       "<Figure size 800x600 with 2 Axes>"
      ]
     },
     "metadata": {},
     "output_type": "display_data"
    }
   ],
   "source": [
    "# Create a confusion matrix\n",
    "conf_matrix = confusion_matrix(y_test, y_pred)\n",
    "\n",
    "# Plot the confusion matrix\n",
    "plt.figure(figsize=(8, 6))\n",
    "sns.heatmap(conf_matrix, annot=True, fmt='d', cmap='Blues', xticklabels=['negative', 'neutral', 'positive'], yticklabels=['negative', 'neutral', 'positive'])\n",
    "plt.ylabel('Actual')\n",
    "plt.xlabel('Predicted')\n",
    "plt.title('Confusion Matrix')\n",
    "plt.show()"
   ]
  },
  {
   "cell_type": "code",
   "execution_count": null,
   "id": "47085143-7d55-4f46-b67d-da6314aebcf1",
   "metadata": {},
   "outputs": [],
   "source": []
  }
 ],
 "metadata": {
  "kernelspec": {
   "display_name": "Sentiment Analysis Env",
   "language": "python",
   "name": "sentiment_env"
  },
  "language_info": {
   "codemirror_mode": {
    "name": "ipython",
    "version": 3
   },
   "file_extension": ".py",
   "mimetype": "text/x-python",
   "name": "python",
   "nbconvert_exporter": "python",
   "pygments_lexer": "ipython3",
   "version": "3.11.9"
  }
 },
 "nbformat": 4,
 "nbformat_minor": 5
}
