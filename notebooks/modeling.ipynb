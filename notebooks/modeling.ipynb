{
 "cells": [
  {
   "cell_type": "code",
   "execution_count": 29,
   "id": "3c1251b3-8cba-48a3-a791-31c6e0b1c0a6",
   "metadata": {},
   "outputs": [],
   "source": [
    "import pandas as pd\n",
    "import matplotlib.pyplot as plt\n",
    "import seaborn as sns\n",
    "import numpy as np\n",
    "from datetime import datetime\n",
    "from scipy.stats import ttest_ind\n",
    "import spacy\n",
    "from sklearn.linear_model import LogisticRegression\n",
    "from sklearn.naive_bayes import MultinomialNB\n",
    "\n",
    "import re\n",
    "\n",
    "from sklearn.feature_extraction.text import TfidfVectorizer\n",
    "import pickle\n",
    "\n",
    "from sklearn.model_selection import train_test_split\n",
    "\n",
    "from sklearn.metrics import classification_report, confusion_matrix, accuracy_score\n",
    "\n",
    "%matplotlib inline\n",
    "import warnings\n",
    "# warnings.filterwarnings('ignore')"
   ]
  },
  {
   "cell_type": "code",
   "execution_count": 24,
   "id": "b2051cd3-1b1f-4eab-8637-c94b2bc2879d",
   "metadata": {},
   "outputs": [],
   "source": [
    "# Loading the dataset\n",
    "df = pd.read_csv('../data/clean/df_0.csv', sep=',')"
   ]
  },
  {
   "cell_type": "code",
   "execution_count": 25,
   "id": "f0768bd0-210d-4305-b94c-dae25d4d99ee",
   "metadata": {},
   "outputs": [
    {
     "data": {
      "text/html": [
       "<div>\n",
       "<style scoped>\n",
       "    .dataframe tbody tr th:only-of-type {\n",
       "        vertical-align: middle;\n",
       "    }\n",
       "\n",
       "    .dataframe tbody tr th {\n",
       "        vertical-align: top;\n",
       "    }\n",
       "\n",
       "    .dataframe thead th {\n",
       "        text-align: right;\n",
       "    }\n",
       "</style>\n",
       "<table border=\"1\" class=\"dataframe\">\n",
       "  <thead>\n",
       "    <tr style=\"text-align: right;\">\n",
       "      <th></th>\n",
       "      <th>id</th>\n",
       "      <th>text</th>\n",
       "      <th>target</th>\n",
       "      <th>sentiment</th>\n",
       "    </tr>\n",
       "  </thead>\n",
       "  <tbody>\n",
       "    <tr>\n",
       "      <th>0</th>\n",
       "      <td>9536</td>\n",
       "      <td>Cooking microwave pizzas, yummy</td>\n",
       "      <td>2</td>\n",
       "      <td>positive</td>\n",
       "    </tr>\n",
       "    <tr>\n",
       "      <th>1</th>\n",
       "      <td>6135</td>\n",
       "      <td>Any plans of allowing sub tasks to show up in ...</td>\n",
       "      <td>1</td>\n",
       "      <td>neutral</td>\n",
       "    </tr>\n",
       "    <tr>\n",
       "      <th>2</th>\n",
       "      <td>17697</td>\n",
       "      <td>I love the humor, I just reworded it. Like sa...</td>\n",
       "      <td>2</td>\n",
       "      <td>positive</td>\n",
       "    </tr>\n",
       "    <tr>\n",
       "      <th>3</th>\n",
       "      <td>14182</td>\n",
       "      <td>naw idk what ur talkin about</td>\n",
       "      <td>1</td>\n",
       "      <td>neutral</td>\n",
       "    </tr>\n",
       "    <tr>\n",
       "      <th>4</th>\n",
       "      <td>17840</td>\n",
       "      <td>That sucks to hear. I hate days like that</td>\n",
       "      <td>0</td>\n",
       "      <td>negative</td>\n",
       "    </tr>\n",
       "    <tr>\n",
       "      <th>...</th>\n",
       "      <td>...</td>\n",
       "      <td>...</td>\n",
       "      <td>...</td>\n",
       "      <td>...</td>\n",
       "    </tr>\n",
       "    <tr>\n",
       "      <th>41637</th>\n",
       "      <td>9043</td>\n",
       "      <td>Not sure what happened but now I have to hit t...</td>\n",
       "      <td>1</td>\n",
       "      <td>neutral</td>\n",
       "    </tr>\n",
       "    <tr>\n",
       "      <th>41638</th>\n",
       "      <td>6160</td>\n",
       "      <td>Pretty good app, lets you organize tasks by ca...</td>\n",
       "      <td>2</td>\n",
       "      <td>positive</td>\n",
       "    </tr>\n",
       "    <tr>\n",
       "      <th>41639</th>\n",
       "      <td>5655</td>\n",
       "      <td>This app is a piece of sh**. It won't sync my ...</td>\n",
       "      <td>0</td>\n",
       "      <td>negative</td>\n",
       "    </tr>\n",
       "    <tr>\n",
       "      <th>41640</th>\n",
       "      <td>11834</td>\n",
       "      <td>: Very interested. However, low carbs for the ...</td>\n",
       "      <td>2</td>\n",
       "      <td>positive</td>\n",
       "    </tr>\n",
       "    <tr>\n",
       "      <th>41641</th>\n",
       "      <td>6904</td>\n",
       "      <td>Good app, but not exactly what I was looking f...</td>\n",
       "      <td>2</td>\n",
       "      <td>positive</td>\n",
       "    </tr>\n",
       "  </tbody>\n",
       "</table>\n",
       "<p>41642 rows × 4 columns</p>\n",
       "</div>"
      ],
      "text/plain": [
       "          id                                               text  target  \\\n",
       "0       9536                    Cooking microwave pizzas, yummy       2   \n",
       "1       6135  Any plans of allowing sub tasks to show up in ...       1   \n",
       "2      17697   I love the humor, I just reworded it. Like sa...       2   \n",
       "3      14182                       naw idk what ur talkin about       1   \n",
       "4      17840          That sucks to hear. I hate days like that       0   \n",
       "...      ...                                                ...     ...   \n",
       "41637   9043  Not sure what happened but now I have to hit t...       1   \n",
       "41638   6160  Pretty good app, lets you organize tasks by ca...       2   \n",
       "41639   5655  This app is a piece of sh**. It won't sync my ...       0   \n",
       "41640  11834  : Very interested. However, low carbs for the ...       2   \n",
       "41641   6904  Good app, but not exactly what I was looking f...       2   \n",
       "\n",
       "      sentiment  \n",
       "0      positive  \n",
       "1       neutral  \n",
       "2      positive  \n",
       "3       neutral  \n",
       "4      negative  \n",
       "...         ...  \n",
       "41637   neutral  \n",
       "41638  positive  \n",
       "41639  negative  \n",
       "41640  positive  \n",
       "41641  positive  \n",
       "\n",
       "[41642 rows x 4 columns]"
      ]
     },
     "execution_count": 25,
     "metadata": {},
     "output_type": "execute_result"
    }
   ],
   "source": [
    "df"
   ]
  },
  {
   "cell_type": "markdown",
   "id": "b5836ea6-2fba-45d2-a902-8830304af930",
   "metadata": {},
   "source": [
    "# Data Clean and Preprocessing "
   ]
  },
  {
   "cell_type": "markdown",
   "id": "0a0cdf75-21ec-4f0f-86bd-3819c446725f",
   "metadata": {},
   "source": [
    "**Clean the text**"
   ]
  },
  {
   "cell_type": "code",
   "execution_count": 26,
   "id": "7fc002f4-9cf0-4e52-a1f9-df1e50aba3f1",
   "metadata": {},
   "outputs": [
    {
     "data": {
      "text/html": [
       "<div>\n",
       "<style scoped>\n",
       "    .dataframe tbody tr th:only-of-type {\n",
       "        vertical-align: middle;\n",
       "    }\n",
       "\n",
       "    .dataframe tbody tr th {\n",
       "        vertical-align: top;\n",
       "    }\n",
       "\n",
       "    .dataframe thead th {\n",
       "        text-align: right;\n",
       "    }\n",
       "</style>\n",
       "<table border=\"1\" class=\"dataframe\">\n",
       "  <thead>\n",
       "    <tr style=\"text-align: right;\">\n",
       "      <th></th>\n",
       "      <th>text</th>\n",
       "      <th>cleaned_text</th>\n",
       "    </tr>\n",
       "  </thead>\n",
       "  <tbody>\n",
       "    <tr>\n",
       "      <th>0</th>\n",
       "      <td>Cooking microwave pizzas, yummy</td>\n",
       "      <td>cooking microwave pizzas yummy</td>\n",
       "    </tr>\n",
       "    <tr>\n",
       "      <th>1</th>\n",
       "      <td>Any plans of allowing sub tasks to show up in ...</td>\n",
       "      <td>any plans of allowing sub tasks to show up in ...</td>\n",
       "    </tr>\n",
       "    <tr>\n",
       "      <th>2</th>\n",
       "      <td>I love the humor, I just reworded it. Like sa...</td>\n",
       "      <td>i love the humor i just reworded it like sayi...</td>\n",
       "    </tr>\n",
       "    <tr>\n",
       "      <th>3</th>\n",
       "      <td>naw idk what ur talkin about</td>\n",
       "      <td>naw idk what ur talkin about</td>\n",
       "    </tr>\n",
       "    <tr>\n",
       "      <th>4</th>\n",
       "      <td>That sucks to hear. I hate days like that</td>\n",
       "      <td>that sucks to hear i hate days like that</td>\n",
       "    </tr>\n",
       "  </tbody>\n",
       "</table>\n",
       "</div>"
      ],
      "text/plain": [
       "                                                text  \\\n",
       "0                    Cooking microwave pizzas, yummy   \n",
       "1  Any plans of allowing sub tasks to show up in ...   \n",
       "2   I love the humor, I just reworded it. Like sa...   \n",
       "3                       naw idk what ur talkin about   \n",
       "4          That sucks to hear. I hate days like that   \n",
       "\n",
       "                                        cleaned_text  \n",
       "0                     cooking microwave pizzas yummy  \n",
       "1  any plans of allowing sub tasks to show up in ...  \n",
       "2   i love the humor i just reworded it like sayi...  \n",
       "3                       naw idk what ur talkin about  \n",
       "4           that sucks to hear i hate days like that  "
      ]
     },
     "execution_count": 26,
     "metadata": {},
     "output_type": "execute_result"
    }
   ],
   "source": [
    "# Preprocess the dataset: removing URLs, mentions and hashtags im 'text' column and convert to lowercase\n",
    "\n",
    "# Define a function to clean the text\n",
    "def clean_text(text):\n",
    "    # Remove URLs, mentions, hashtags, and punctuation\n",
    "    text = re.sub(r'http\\S+', '', text)  # Remove URLs\n",
    "    text = re.sub(r'@\\w+', '', text)     # Remove mentions\n",
    "    text = re.sub(r'#\\w+', '', text)     # Remove hashtags\n",
    "    text = re.sub(r'[^\\w\\s]', '', text)  # Remove punctuation\n",
    "    return text.lower()  # Convert to lowercase\n",
    "\n",
    "# Apply the text cleaning function\n",
    "df['cleaned_text'] = df['text'].apply(clean_text)\n",
    "\n",
    "# Inspect the cleaned text column\n",
    "df[['text', 'cleaned_text']].head()"
   ]
  },
  {
   "cell_type": "markdown",
   "id": "adb635e4-f13e-4b14-88e4-2c7d8440f79e",
   "metadata": {},
   "source": [
    "<br>\n",
    "<br>\n",
    "\n",
    "**Tokenization and Lemmatization with spaCy**\n",
    " \n",
    " This step will break the text into individual words (tokens) and convert each word to its base form (lemma).This step should happen before fitting the TF-IDF vectorizer, so the vectorizer can work on the final, processed text."
   ]
  },
  {
   "cell_type": "code",
   "execution_count": 27,
   "id": "4857541b-a3f1-4be8-872b-071471d1c722",
   "metadata": {},
   "outputs": [
    {
     "name": "stdout",
     "output_type": "stream",
     "text": [
      "                                        cleaned_text  \\\n",
      "0                     cooking microwave pizzas yummy   \n",
      "1  any plans of allowing sub tasks to show up in ...   \n",
      "2   i love the humor i just reworded it like sayi...   \n",
      "3                       naw idk what ur talkin about   \n",
      "4           that sucks to hear i hate days like that   \n",
      "\n",
      "                                              tokens  \n",
      "0                    [cook, microwave, pizza, yummy]  \n",
      "1                   [plan, allow, sub, task, widget]  \n",
      "2  [ , love, humor, reword, like, say, group, the...  \n",
      "3                          [ , naw, idk, ur, talkin]  \n",
      "4                   [ , suck, hear, hate, day, like]  \n"
     ]
    }
   ],
   "source": [
    "# Load spaCy's small English model\n",
    "nlp = spacy.load('en_core_web_sm')\n",
    "\n",
    "# Function to tokenize and lemmatize text and also removes stopwords\n",
    "def tokenize_and_lemmatize(text):\n",
    "    doc = nlp(text)\n",
    "    return [token.lemma_ for token in doc if not token.is_stop]  # Lemmatize and remove stopwords\n",
    "\n",
    "# Apply the tokenization and lemmatization function\n",
    "df['tokens'] = df['cleaned_text'].apply(tokenize_and_lemmatize)\n",
    "\n",
    "# Inspect the tokenized and lemmatized text\n",
    "print(df[['cleaned_text', 'tokens']].head())"
   ]
  },
  {
   "cell_type": "code",
   "execution_count": 28,
   "id": "e751f42d-ba06-4ad5-80e7-c2f81933cb1b",
   "metadata": {},
   "outputs": [
    {
     "data": {
      "text/html": [
       "<div>\n",
       "<style scoped>\n",
       "    .dataframe tbody tr th:only-of-type {\n",
       "        vertical-align: middle;\n",
       "    }\n",
       "\n",
       "    .dataframe tbody tr th {\n",
       "        vertical-align: top;\n",
       "    }\n",
       "\n",
       "    .dataframe thead th {\n",
       "        text-align: right;\n",
       "    }\n",
       "</style>\n",
       "<table border=\"1\" class=\"dataframe\">\n",
       "  <thead>\n",
       "    <tr style=\"text-align: right;\">\n",
       "      <th></th>\n",
       "      <th>id</th>\n",
       "      <th>text</th>\n",
       "      <th>target</th>\n",
       "      <th>sentiment</th>\n",
       "      <th>cleaned_text</th>\n",
       "      <th>tokens</th>\n",
       "    </tr>\n",
       "  </thead>\n",
       "  <tbody>\n",
       "    <tr>\n",
       "      <th>0</th>\n",
       "      <td>9536</td>\n",
       "      <td>Cooking microwave pizzas, yummy</td>\n",
       "      <td>2</td>\n",
       "      <td>positive</td>\n",
       "      <td>cooking microwave pizzas yummy</td>\n",
       "      <td>[cook, microwave, pizza, yummy]</td>\n",
       "    </tr>\n",
       "    <tr>\n",
       "      <th>1</th>\n",
       "      <td>6135</td>\n",
       "      <td>Any plans of allowing sub tasks to show up in ...</td>\n",
       "      <td>1</td>\n",
       "      <td>neutral</td>\n",
       "      <td>any plans of allowing sub tasks to show up in ...</td>\n",
       "      <td>[plan, allow, sub, task, widget]</td>\n",
       "    </tr>\n",
       "    <tr>\n",
       "      <th>2</th>\n",
       "      <td>17697</td>\n",
       "      <td>I love the humor, I just reworded it. Like sa...</td>\n",
       "      <td>2</td>\n",
       "      <td>positive</td>\n",
       "      <td>i love the humor i just reworded it like sayi...</td>\n",
       "      <td>[ , love, humor, reword, like, say, group, the...</td>\n",
       "    </tr>\n",
       "    <tr>\n",
       "      <th>3</th>\n",
       "      <td>14182</td>\n",
       "      <td>naw idk what ur talkin about</td>\n",
       "      <td>1</td>\n",
       "      <td>neutral</td>\n",
       "      <td>naw idk what ur talkin about</td>\n",
       "      <td>[ , naw, idk, ur, talkin]</td>\n",
       "    </tr>\n",
       "    <tr>\n",
       "      <th>4</th>\n",
       "      <td>17840</td>\n",
       "      <td>That sucks to hear. I hate days like that</td>\n",
       "      <td>0</td>\n",
       "      <td>negative</td>\n",
       "      <td>that sucks to hear i hate days like that</td>\n",
       "      <td>[ , suck, hear, hate, day, like]</td>\n",
       "    </tr>\n",
       "    <tr>\n",
       "      <th>...</th>\n",
       "      <td>...</td>\n",
       "      <td>...</td>\n",
       "      <td>...</td>\n",
       "      <td>...</td>\n",
       "      <td>...</td>\n",
       "      <td>...</td>\n",
       "    </tr>\n",
       "    <tr>\n",
       "      <th>41637</th>\n",
       "      <td>9043</td>\n",
       "      <td>Not sure what happened but now I have to hit t...</td>\n",
       "      <td>1</td>\n",
       "      <td>neutral</td>\n",
       "      <td>not sure what happened but now i have to hit t...</td>\n",
       "      <td>[sure, happen, hit, sync, button, time, calend...</td>\n",
       "    </tr>\n",
       "    <tr>\n",
       "      <th>41638</th>\n",
       "      <td>6160</td>\n",
       "      <td>Pretty good app, lets you organize tasks by ca...</td>\n",
       "      <td>2</td>\n",
       "      <td>positive</td>\n",
       "      <td>pretty good app lets you organize tasks by cat...</td>\n",
       "      <td>[pretty, good, app, let, organize, task, categ...</td>\n",
       "    </tr>\n",
       "    <tr>\n",
       "      <th>41639</th>\n",
       "      <td>5655</td>\n",
       "      <td>This app is a piece of sh**. It won't sync my ...</td>\n",
       "      <td>0</td>\n",
       "      <td>negative</td>\n",
       "      <td>this app is a piece of sh it wont sync my old ...</td>\n",
       "      <td>[app, piece, sh, will, not, sync, old, wunderl...</td>\n",
       "    </tr>\n",
       "    <tr>\n",
       "      <th>41640</th>\n",
       "      <td>11834</td>\n",
       "      <td>: Very interested. However, low carbs for the ...</td>\n",
       "      <td>2</td>\n",
       "      <td>positive</td>\n",
       "      <td>very interested however low carbs for the nex...</td>\n",
       "      <td>[ , interested, low, carb, month, mean, beer]</td>\n",
       "    </tr>\n",
       "    <tr>\n",
       "      <th>41641</th>\n",
       "      <td>6904</td>\n",
       "      <td>Good app, but not exactly what I was looking f...</td>\n",
       "      <td>2</td>\n",
       "      <td>positive</td>\n",
       "      <td>good app but not exactly what i was looking fo...</td>\n",
       "      <td>[good, app, exactly, look, app, use, calendar,...</td>\n",
       "    </tr>\n",
       "  </tbody>\n",
       "</table>\n",
       "<p>41642 rows × 6 columns</p>\n",
       "</div>"
      ],
      "text/plain": [
       "          id                                               text  target  \\\n",
       "0       9536                    Cooking microwave pizzas, yummy       2   \n",
       "1       6135  Any plans of allowing sub tasks to show up in ...       1   \n",
       "2      17697   I love the humor, I just reworded it. Like sa...       2   \n",
       "3      14182                       naw idk what ur talkin about       1   \n",
       "4      17840          That sucks to hear. I hate days like that       0   \n",
       "...      ...                                                ...     ...   \n",
       "41637   9043  Not sure what happened but now I have to hit t...       1   \n",
       "41638   6160  Pretty good app, lets you organize tasks by ca...       2   \n",
       "41639   5655  This app is a piece of sh**. It won't sync my ...       0   \n",
       "41640  11834  : Very interested. However, low carbs for the ...       2   \n",
       "41641   6904  Good app, but not exactly what I was looking f...       2   \n",
       "\n",
       "      sentiment                                       cleaned_text  \\\n",
       "0      positive                     cooking microwave pizzas yummy   \n",
       "1       neutral  any plans of allowing sub tasks to show up in ...   \n",
       "2      positive   i love the humor i just reworded it like sayi...   \n",
       "3       neutral                       naw idk what ur talkin about   \n",
       "4      negative           that sucks to hear i hate days like that   \n",
       "...         ...                                                ...   \n",
       "41637   neutral  not sure what happened but now i have to hit t...   \n",
       "41638  positive  pretty good app lets you organize tasks by cat...   \n",
       "41639  negative  this app is a piece of sh it wont sync my old ...   \n",
       "41640  positive   very interested however low carbs for the nex...   \n",
       "41641  positive  good app but not exactly what i was looking fo...   \n",
       "\n",
       "                                                  tokens  \n",
       "0                        [cook, microwave, pizza, yummy]  \n",
       "1                       [plan, allow, sub, task, widget]  \n",
       "2      [ , love, humor, reword, like, say, group, the...  \n",
       "3                              [ , naw, idk, ur, talkin]  \n",
       "4                       [ , suck, hear, hate, day, like]  \n",
       "...                                                  ...  \n",
       "41637  [sure, happen, hit, sync, button, time, calend...  \n",
       "41638  [pretty, good, app, let, organize, task, categ...  \n",
       "41639  [app, piece, sh, will, not, sync, old, wunderl...  \n",
       "41640      [ , interested, low, carb, month, mean, beer]  \n",
       "41641  [good, app, exactly, look, app, use, calendar,...  \n",
       "\n",
       "[41642 rows x 6 columns]"
      ]
     },
     "execution_count": 28,
     "metadata": {},
     "output_type": "execute_result"
    }
   ],
   "source": [
    "df"
   ]
  },
  {
   "cell_type": "markdown",
   "id": "8da6912f-a9e5-49c4-92f4-619ce49a531c",
   "metadata": {},
   "source": [
    "<br>\n",
    "<br>\n",
    "\n",
    "**Split the Data into Training and Testing Sets**\n",
    "\n",
    "Before we can fit the TF-IDF vectorizer and train the model, we need to split the dataset into training and testing sets. This allows us to evaluate the model’s performance on unseen data.\n",
    "\n",
    "Split the dataset into a training set and a testing set.\n",
    "- Training set: used to fit the TF-IDF vectorizer and train the machine learning model.\n",
    "- Testing set: used to evaluate the model's performance."
   ]
  },
  {
   "cell_type": "code",
   "execution_count": 11,
   "id": "2e11c85a-769a-4647-a5b4-e9b829f3d2e1",
   "metadata": {},
   "outputs": [
    {
     "name": "stdout",
     "output_type": "stream",
     "text": [
      "Training set size: 29203\n",
      "Testing set size: 7301\n"
     ]
    }
   ],
   "source": [
    "# Split the data\n",
    "X = df['cleaned_text']  # Features (text)\n",
    "y = df['target']  # Target (sentiment label)\n",
    "\n",
    "# Split into 80% training and 20% testing\n",
    "X_train, X_test, y_train, y_test = train_test_split(X, y, test_size=0.2, random_state=42)\n",
    "\n",
    "# Display the sizes of the training and testing sets\n",
    "print(f\"Training set size: {len(X_train)}\")\n",
    "print(f\"Testing set size: {len(X_test)}\")"
   ]
  },
  {
   "cell_type": "markdown",
   "id": "efe9df47-4f5b-42c7-9256-7c70b300735a",
   "metadata": {},
   "source": [
    "<br>\n",
    "<br>\n",
    "\n",
    "# Feature Extraction\n",
    " \n",
    "**Fit the TF-IDF Vectorizer**\n",
    "\n",
    "Use **TF-IDF** (Term Frequency-Inverse Document Frequency) to convert the text into a numerical format, and then use a model like Logistic Regression or Naive Bayes to classify the sentiment."
   ]
  },
  {
   "cell_type": "code",
   "execution_count": 12,
   "id": "0096baf6-ecbe-43d6-9c42-1afe1c2ba4d1",
   "metadata": {},
   "outputs": [],
   "source": [
    "# Initialize the TF-IDF vectorizer\n",
    "tfidf = TfidfVectorizer(max_features=5000) # transforms text data into numerical vectors based on the TF-IDF scoring.\n",
    "# limits the number of words in the vocabulary to the top 5000 most important terms (based on the term frequency and inverse document frequency).\n",
    "\n",
    "# Fit the vectorizer on the training data (lemmatized text)\n",
    "tfidf.fit(X_train) # The vectorizer goes through the training data (X_train) and learns the vocabulary and IDF weights.\n",
    "# It scans the text and builds a vocabulary of words that it will use to create TF-IDF vectors.\n",
    "# It calculates the Term Frequency (TF): How often each word appears in a document.\n",
    "# It calculates the Inverse Document Frequency (IDF): How important a word is, based on how rare it is across the entire dataset.\n",
    "\n",
    "# After fitting, the vectorizer knows:\n",
    "# What the important words are based on their frequency across documents.\n",
    "# How to assign importance to words by calculating the IDF scores.\n",
    "\n",
    "\n",
    "# Save the vectorizer for future use\n",
    "with open('../vectorizers/tfidf_vectorizer.pkl', 'wb') as f:\n",
    "    pickle.dump(tfidf, f)\n",
    "\n",
    "# pickle.dump(tfidf, f) saves the fitted vectorizer into a file (tfidf_vectorizer.pkl) using the Python library pickle.\n",
    "# The vectorizer has already learned the vocabulary and the TF-IDF weights from the training data. Saving it ensures that we can reuse the vectorizer later \n",
    "# in our application without having to refit it every time."
   ]
  },
  {
   "cell_type": "markdown",
   "id": "ee12ad84-bf34-4dad-bd11-491a4126c0c3",
   "metadata": {},
   "source": [
    "<br>\n",
    "<br>\n",
    "\n",
    "**Vectorize the Text Using TF-IDF**"
   ]
  },
  {
   "cell_type": "code",
   "execution_count": 13,
   "id": "e22ac945-a9ca-4ab0-b41a-b6b48e9212e3",
   "metadata": {},
   "outputs": [
    {
     "name": "stdout",
     "output_type": "stream",
     "text": [
      "Shape of training data: (29203, 5000)\n"
     ]
    }
   ],
   "source": [
    "# Transform the training and testing data\n",
    "# Now that the vectorizer is fitted, it can convert the text data into a matrix of TF-IDF scores.\n",
    "\n",
    "X_train_tfidf = tfidf.transform(X_train)\n",
    "X_test_tfidf = tfidf.transform(X_test)\n",
    "\n",
    "print(f\"Shape of training data: {X_train_tfidf.shape}\")\n",
    "# The transform() function takes the cleaned and lemmatized text and converts it into a sparse matrix of TF-IDF features.\n",
    "# The resulting TF-IDF vectors are numerical representations of the original text that will be used to train and test the machine learning model."
   ]
  },
  {
   "cell_type": "code",
   "execution_count": 14,
   "id": "1b9a80e6-11fe-4cde-ba40-d5074e26d7b6",
   "metadata": {},
   "outputs": [
    {
     "data": {
      "text/plain": [
       "<29203x5000 sparse matrix of type '<class 'numpy.float64'>'\n",
       "\twith 400775 stored elements in Compressed Sparse Row format>"
      ]
     },
     "metadata": {},
     "output_type": "display_data"
    }
   ],
   "source": [
    "display(X_train_tfidf)"
   ]
  },
  {
   "cell_type": "markdown",
   "id": "5f5a177e-b07e-4f83-b0dc-858b2ebe318b",
   "metadata": {},
   "source": [
    "checking an example:"
   ]
  },
  {
   "cell_type": "code",
   "execution_count": 16,
   "id": "960426e7-932c-40b4-bd51-87cc7ebd6d01",
   "metadata": {},
   "outputs": [
    {
     "name": "stdout",
     "output_type": "stream",
     "text": [
      "Original Text:\n",
      "is cursing abs wardrobe handles one drew blood\n",
      "\n",
      "TF-IDF scores for the first document:\n",
      "yup: 1.0\n"
     ]
    }
   ],
   "source": [
    "original_text = X_train[0]  # Get the first example of the original text\n",
    "\n",
    "# Get the feature names (words) from the TF-IDF vectorizer\n",
    "feature_names = tfidf.get_feature_names_out()\n",
    "\n",
    "# Convert the first row of the transformed training data to an array and view the TF-IDF scores\n",
    "first_example = X_train_tfidf[0]  # Get the first sample from the training data\n",
    "first_example_dense = first_example.toarray()  # Convert sparse matrix to a dense array\n",
    "\n",
    "# Create a dictionary of words and their corresponding TF-IDF scores\n",
    "word_tfidf = {feature_names[i]: first_example_dense[0, i] for i in first_example.nonzero()[1]}\n",
    "\n",
    "# Print the original text\n",
    "print(\"Original Text:\")\n",
    "print(original_text)\n",
    "\n",
    "# Print the example TF-IDF scores for the first document\n",
    "print(\"\\nTF-IDF scores for the first document:\")\n",
    "for word, score in word_tfidf.items():\n",
    "    print(f\"{word}: {score}\")"
   ]
  },
  {
   "cell_type": "markdown",
   "id": "c1ee63c6-2615-4762-a483-b25dc5448e4f",
   "metadata": {},
   "source": [
    "<br>\n",
    "<br>\n",
    "\n",
    "# Modeling: Logistic Regression\n",
    "\n",
    "Code to train the Model:\n",
    "- Train the Logistic Regression Model using the training TF-IDF vectors (*X_train_tfidf*) and the labels (*y_train*).\n",
    "- Evaluate the model on the testing set (*X_test_tfidf*) to check its accuracy."
   ]
  },
  {
   "cell_type": "code",
   "execution_count": 17,
   "id": "0eaa17f1-c821-4c9b-a7d2-a14f1ec60df1",
   "metadata": {},
   "outputs": [],
   "source": [
    "# Initialize the Logistic Regression model\n",
    "model = LogisticRegression(max_iter=1000, random_state=42)\n",
    "\n",
    "# Train the model on the TF-IDF vectors (training data)\n",
    "model.fit(X_train_tfidf, y_train)\n",
    "\n",
    "# Save the trained model for future use\n",
    "with open('../models/logistic_regression_model.pkl', 'wb') as f:\n",
    "    pickle.dump(model, f)"
   ]
  },
  {
   "cell_type": "markdown",
   "id": "d2f29fb3-5a48-4d0a-8eb6-5e46ec079c32",
   "metadata": {},
   "source": [
    "<br>\n",
    "<br>\n",
    "\n",
    "**Predict on the test set**"
   ]
  },
  {
   "cell_type": "code",
   "execution_count": 18,
   "id": "4040511a-d89a-4f8d-9040-515faf2cd801",
   "metadata": {},
   "outputs": [
    {
     "name": "stdout",
     "output_type": "stream",
     "text": [
      "Predictions: [2 1 2 0 2 1 0 2 2 1]\n",
      "Actual labels: [2 2 2 1 2 2 0 2 0 1]\n"
     ]
    }
   ],
   "source": [
    "# Make predictions on the test data\n",
    "y_pred = model.predict(X_test_tfidf)\n",
    "\n",
    "# Print some predictions and actual labels to check\n",
    "print(f\"Predictions: {y_pred[:10]}\")\n",
    "print(f\"Actual labels: {y_test[:10].values}\")"
   ]
  },
  {
   "cell_type": "markdown",
   "id": "8c11ebf3-11e8-47bd-b4b5-227ab91e58aa",
   "metadata": {},
   "source": [
    "<br>\n",
    "<br>\n",
    "\n",
    "Export **y_test** and **y_pred**"
   ]
  },
  {
   "cell_type": "code",
   "execution_count": 19,
   "id": "aad544a9-7bfe-4916-8c7b-b2b523eee8c4",
   "metadata": {},
   "outputs": [],
   "source": [
    "import pickle\n",
    "\n",
    "# Save y_test\n",
    "with open('../data/clean/y_test.pkl', 'wb') as f:\n",
    "    pickle.dump(y_test, f)\n",
    "\n",
    "# Save y_pred\n",
    "with open('../data/clean/y_pred.pkl', 'wb') as f:\n",
    "    pickle.dump(y_pred, f)"
   ]
  },
  {
   "cell_type": "markdown",
   "id": "3566203c-05fd-4319-b658-8d8783050018",
   "metadata": {},
   "source": [
    "<br>\n",
    "<br>\n",
    "\n",
    "**Evaluate the Model Performance**"
   ]
  },
  {
   "cell_type": "code",
   "execution_count": 20,
   "id": "28c39c04-d47b-4e37-990d-6d9a2414f408",
   "metadata": {},
   "outputs": [
    {
     "data": {
      "text/plain": [
       "0.674291192987262"
      ]
     },
     "execution_count": 20,
     "metadata": {},
     "output_type": "execute_result"
    }
   ],
   "source": [
    "accuracy = accuracy_score(y_test, y_pred)\n",
    "\n",
    "accuracy"
   ]
  },
  {
   "cell_type": "code",
   "execution_count": 21,
   "id": "abb75a02-f1d4-4501-a2fa-fd5e03c1cd5a",
   "metadata": {},
   "outputs": [
    {
     "name": "stdout",
     "output_type": "stream",
     "text": [
      "              precision    recall  f1-score   support\n",
      "\n",
      "    negative       0.69      0.69      0.69      2457\n",
      "     neutral       0.56      0.60      0.58      2381\n",
      "    positive       0.78      0.73      0.76      2463\n",
      "\n",
      "    accuracy                           0.67      7301\n",
      "   macro avg       0.68      0.67      0.68      7301\n",
      "weighted avg       0.68      0.67      0.68      7301\n",
      "\n"
     ]
    }
   ],
   "source": [
    "# Evaluate the model\n",
    "print(classification_report(y_test, y_pred, target_names=['negative', 'neutral', 'positive']))\n"
   ]
  },
  {
   "cell_type": "code",
   "execution_count": 22,
   "id": "648a0779-8e3f-4b4e-95e8-cf9cc26bf5a1",
   "metadata": {},
   "outputs": [
    {
     "data": {
      "image/png": "[encoded data removed]",
      "text/plain": [
       "<Figure size 800x600 with 2 Axes>"
      ]
     },
     "metadata": {},
     "output_type": "display_data"
    }
   ],
   "source": [
    "# Create a confusion matrix\n",
    "conf_matrix = confusion_matrix(y_test, y_pred)\n",
    "\n",
    "# Plot the confusion matrix\n",
    "plt.figure(figsize=(8, 6))\n",
    "sns.heatmap(conf_matrix, annot=True, fmt='d', cmap='Blues', xticklabels=['negative', 'neutral', 'positive'], yticklabels=['negative', 'neutral', 'positive'])\n",
    "plt.ylabel('Actual')\n",
    "plt.xlabel('Predicted')\n",
    "plt.title('Confusion Matrix')\n",
    "plt.show()"
   ]
  },
  {
   "cell_type": "markdown",
   "id": "bb20d04a-760e-478b-b4ac-35fdba8d58fd",
   "metadata": {},
   "source": [
    "<br>\n",
    "<br>\n",
    "\n",
    "# Modeling: Naive Bayes"
   ]
  },
  {
   "cell_type": "code",
   "execution_count": 30,
   "id": "b665f990-1fb8-4182-abca-a0bcfbc9d50c",
   "metadata": {},
   "outputs": [],
   "source": [
    "# Initialize the Naive Bayes model\n",
    "nb_model = MultinomialNB()\n",
    "\n",
    "# Train the model on the training data\n",
    "nb_model.fit(X_train_tfidf, y_train)\n",
    "\n",
    "# Save the trained model for future use\n",
    "with open('../models/naive_bayes_model.pkl', 'wb') as f:\n",
    "    pickle.dump(nb_model, f)\n"
   ]
  },
  {
   "cell_type": "markdown",
   "id": "ee75c062-7cfd-4172-998e-507c8a374e44",
   "metadata": {},
   "source": [
    "<br>\n",
    "<br>\n",
    "\n",
    "**Predict on the test set**"
   ]
  },
  {
   "cell_type": "code",
   "execution_count": 31,
   "id": "e7a5471a-2928-44eb-945b-e19e4d6dae47",
   "metadata": {},
   "outputs": [
    {
     "name": "stdout",
     "output_type": "stream",
     "text": [
      "Predictions: [2 1 2 1 2 1 0 2 2 1]\n",
      "Actual labels: [2 2 2 1 2 2 0 2 0 1]\n"
     ]
    }
   ],
   "source": [
    "# Make predictions on the test data\n",
    "y_pred_nb = nb_model.predict(X_test_tfidf)\n",
    "\n",
    "# Print some predictions and actual labels to check\n",
    "print(f\"Predictions: {y_pred_nb[:10]}\")\n",
    "print(f\"Actual labels: {y_test[:10].values}\")\n"
   ]
  },
  {
   "cell_type": "markdown",
   "id": "ae55d6df-9780-40ef-beb1-09b706fe2b16",
   "metadata": {},
   "source": [
    "<br>\n",
    "<br>\n",
    "\n",
    "**Evaluate the Model Performance**"
   ]
  },
  {
   "cell_type": "code",
   "execution_count": 32,
   "id": "3ceb6110-d29b-4004-9bdb-8ec1af87aa77",
   "metadata": {},
   "outputs": [
    {
     "name": "stdout",
     "output_type": "stream",
     "text": [
      "Naive Bayes Accuracy: 0.6440\n",
      "Classification Report:\n",
      "              precision    recall  f1-score   support\n",
      "\n",
      "           0       0.67      0.67      0.67      2457\n",
      "           1       0.53      0.56      0.54      2381\n",
      "           2       0.73      0.70      0.72      2463\n",
      "\n",
      "    accuracy                           0.64      7301\n",
      "   macro avg       0.65      0.64      0.64      7301\n",
      "weighted avg       0.65      0.64      0.65      7301\n",
      "\n"
     ]
    },
    {
     "data": {
      "image/png": "[encoded data removed]",
      "text/plain": [
       "<Figure size 800x600 with 2 Axes>"
      ]
     },
     "metadata": {},
     "output_type": "display_data"
    }
   ],
   "source": [
    "# Calculate accuracy\n",
    "accuracy_nb = accuracy_score(y_test, y_pred_nb)\n",
    "print(f\"Naive Bayes Accuracy: {accuracy_nb:.4f}\")\n",
    "\n",
    "# Classification report\n",
    "print(\"Classification Report:\")\n",
    "print(classification_report(y_test, y_pred_nb))\n",
    "\n",
    "# Confusion matrix\n",
    "conf_matrix = confusion_matrix(y_test, y_pred_nb)\n",
    "plt.figure(figsize=(8,6))\n",
    "sns.heatmap(conf_matrix, annot=True, fmt=\"d\", cmap=\"Blues\", xticklabels=['Negative', 'Neutral', 'Positive'], yticklabels=['Negative', 'Neutral', 'Positive'])\n",
    "plt.ylabel('Actual')\n",
    "plt.xlabel('Predicted')\n",
    "plt.title('Confusion Matrix for Naive Bayes')\n",
    "plt.show()\n"
   ]
  },
  {
   "cell_type": "code",
   "execution_count": null,
   "id": "ea0df1e8-8f82-40b0-be7a-f3821199a5aa",
   "metadata": {},
   "outputs": [],
   "source": []
  }
 ],
 "metadata": {
  "kernelspec": {
   "display_name": "Sentiment Analysis Env",
   "language": "python",
   "name": "sentiment_env"
  },
  "language_info": {
   "codemirror_mode": {
    "name": "ipython",
    "version": 3
   },
   "file_extension": ".py",
   "mimetype": "text/x-python",
   "name": "python",
   "nbconvert_exporter": "python",
   "pygments_lexer": "ipython3",
   "version": "3.11.9"
  }
 },
 "nbformat": 4,
 "nbformat_minor": 5
}
